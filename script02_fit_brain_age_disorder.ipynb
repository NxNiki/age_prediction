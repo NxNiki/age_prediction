{
 "cells": [
  {
   "cell_type": "code",
   "execution_count": 1,
   "metadata": {},
   "outputs": [],
   "source": [
    "import pandas as pd\n",
    "import numpy as np\n",
    "from sklearn import datasets, linear_model\n",
    "\n",
    "scatter_data_hc_ridge = pd.read_csv(\"result/healthy_controls/scatter_data_ridge.csv\", sep = \",\", header = 0, )\n",
    "scatter_data_hc_svr = pd.read_csv(\"result/healthy_controls/scatter_data_svr.csv\", sep = \",\", header = 0, )\n",
    "scatter_data_hc_gpr = pd.read_csv(\"result/healthy_controls/scatter_data_gpr.csv\", sep = \",\", header = 0, )\n",
    "scatter_data_hc_dnn = pd.read_csv(\"result/healthy_controls/scatter_data_dnn.csv\", sep = \",\", header = 0, )\n",
    "\n",
    "\n",
    "# feature_name = 'Multi-modal'\n",
    "# feature_name = 'GMV&DTI'\n",
    "feature_name = 'GMV&rsfMRI'\n",
    "\n",
    "scatter_data_ridge = pd.read_csv(\"result/disorders/age_prediction_ridge_\"+feature_name+\".csv\", sep = \",\", header = 0, )\n",
    "scatter_data_svr = pd.read_csv(\"result/disorders/age_prediction_svr_\"+feature_name+\".csv\", sep = \",\", header = 0, )\n",
    "scatter_data_gpr = pd.read_csv(\"result/disorders/age_prediction_gpr_\"+feature_name+\".csv\", sep = \",\", header = 0, )\n",
    "scatter_data_dnn = pd.read_csv(\"result/disorders/age_prediction_dnn_\"+feature_name+\".csv\", sep = \",\", header = 0, )\n",
    "\n",
    "\n"
   ]
  },
  {
   "cell_type": "code",
   "execution_count": 2,
   "metadata": {},
   "outputs": [
    {
     "name": "stderr",
     "output_type": "stream",
     "text": [
      "/home/xin/environments/lib/python3.6/site-packages/pandas/core/indexing.py:362: SettingWithCopyWarning: \n",
      "A value is trying to be set on a copy of a slice from a DataFrame.\n",
      "Try using .loc[row_indexer,col_indexer] = value instead\n",
      "\n",
      "See the caveats in the documentation: http://pandas.pydata.org/pandas-docs/stable/indexing.html#indexing-view-versus-copy\n",
      "  self.obj[key] = _infer_fill_value(value)\n",
      "/home/xin/environments/lib/python3.6/site-packages/pandas/core/indexing.py:543: SettingWithCopyWarning: \n",
      "A value is trying to be set on a copy of a slice from a DataFrame.\n",
      "Try using .loc[row_indexer,col_indexer] = value instead\n",
      "\n",
      "See the caveats in the documentation: http://pandas.pydata.org/pandas-docs/stable/indexing.html#indexing-view-versus-copy\n",
      "  self.obj[item] = s\n",
      "/home/xin/environments/lib/python3.6/site-packages/pandas/core/frame.py:3697: SettingWithCopyWarning: \n",
      "A value is trying to be set on a copy of a slice from a DataFrame\n",
      "\n",
      "See the caveats in the documentation: http://pandas.pydata.org/pandas-docs/stable/indexing.html#indexing-view-versus-copy\n",
      "  errors=errors)\n"
     ]
    }
   ],
   "source": [
    "def combine_data(hc_list, disorder_list):\n",
    "    # combine multi-modal hc data to disorder data:\n",
    "    out_list = []\n",
    "    \n",
    "    for i in range(len(hc_list)):\n",
    "        hc_data = hc_list[i]\n",
    "        dis_data = disorder_list[i]\n",
    "    \n",
    "        hc_data = hc_data.loc[hc_data['feature']=='Multi-modal',:]\n",
    "        hc_data.loc[:, 'group'] = 'HC'\n",
    "        hc_data.drop(columns = ['feature', 'CV'], inplace = True)\n",
    "        hc_data.columns = ['SUBJID', 'age', 'predict age', 'group']\n",
    "        hc_data = hc_data[['group', 'SUBJID', 'age', 'predict age']]\n",
    "        \n",
    "        dis_data.columns = ['group', 'SUBJID', 'age', 'predict age']\n",
    "        \n",
    "        out_data = pd.concat([hc_data, dis_data], axis = 0)\n",
    "        out_list.append(out_data)\n",
    "    \n",
    "    return(out_list)\n",
    "\n",
    "scatter_data_list_dis = list((scatter_data_ridge, scatter_data_svr, scatter_data_gpr, scatter_data_dnn))\n",
    "scatter_data_list_hc = list((scatter_data_hc_ridge, scatter_data_hc_svr, scatter_data_hc_gpr, scatter_data_hc_dnn))\n",
    "\n",
    "scatter_data_list = combine_data(scatter_data_list_hc, scatter_data_list_dis)"
   ]
  },
  {
   "cell_type": "code",
   "execution_count": 3,
   "metadata": {},
   "outputs": [],
   "source": [
    "# add gender to scatter_data so that we can make scatter plot for female and male separately:\n",
    "subject_behav = pd.read_csv(\"data/pnc_cognitive_response.csv\", delimiter = \",\")\n",
    "subject_info = subject_behav.loc[:, ['SUBJID', 'Sex']]\n",
    "\n",
    "method_list = ['ridge', 'svr', 'gpr', 'dnn']\n",
    "\n",
    "for i_method in range(len(scatter_data_list)):\n",
    "    scatter_data = scatter_data_list[i_method]\n",
    "    scatter_data_gender = scatter_data.merge(subject_info, left_on = 'SUBJID', right_on = 'SUBJID')\n",
    "    scatter_data_gender.set_index( 'group', inplace = True)\n",
    "    scatter_data_gender.sort_index(inplace = True)\n",
    "    scatter_data_gender2 = scatter_data_gender.replace({'Sex': {'F': 0, 'M': 1}}, inplace = False)\n",
    "    #scatter_data_gender['brain age corr'] = np.nan\n",
    "    \n",
    "    scatter_data_hc=scatter_data_gender2.loc['HC',:]\n",
    "    # Train the model using the HC data:\n",
    "    X_train = np.hstack((scatter_data_hc.loc[:,['Sex', 'age']].values,\n",
    "                     np.vstack((scatter_data_hc.loc[:,'age'].values**2))))\n",
    "    y_train = scatter_data_hc.loc[:,'predict age'].values\n",
    "\n",
    "    regr = linear_model.LinearRegression()\n",
    "    regr.fit(X_train, y_train)\n",
    "    \n",
    "    dis_list = scatter_data_gender2.index.unique(level = 0)\n",
    "    \n",
    "    for i_dis in range(len(dis_list)):\n",
    "        \n",
    "        dis_name = dis_list[i_dis]\n",
    "        scatter_data_dis = scatter_data_gender2.loc[dis_name,:]\n",
    "        X_test = np.hstack((scatter_data_dis.loc[:,['Sex', 'age']].values,\n",
    "                             np.vstack((scatter_data_dis.loc[:,'age'].values**2))))\n",
    "        y_test = scatter_data_dis.loc[:,'predict age'].values\n",
    "        # Make predictions using the disorder data set\n",
    "        y_pred = regr.predict(X_test)\n",
    "        \n",
    "        scatter_data_gender.at[dis_name, 'brain age fit'] = y_pred\n",
    "    \n",
    "    scatter_data_gender.to_csv('result/disorders/out02_scatter_data_'+feature_name+'_fit_brainage_'+ method_list[i_method] + '.csv')"
   ]
  },
  {
   "cell_type": "code",
   "execution_count": null,
   "metadata": {},
   "outputs": [],
   "source": [
    "\n",
    "\n"
   ]
  }
 ],
 "metadata": {
  "kernelspec": {
   "display_name": "Python 3",
   "language": "python",
   "name": "python3"
  },
  "language_info": {
   "codemirror_mode": {
    "name": "ipython",
    "version": 3
   },
   "file_extension": ".py",
   "mimetype": "text/x-python",
   "name": "python",
   "nbconvert_exporter": "python",
   "pygments_lexer": "ipython3",
   "version": "3.7.1"
  }
 },
 "nbformat": 4,
 "nbformat_minor": 2
}
