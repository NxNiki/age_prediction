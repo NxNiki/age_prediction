{
 "cells": [
  {
   "cell_type": "code",
   "execution_count": 1,
   "metadata": {},
   "outputs": [],
   "source": [
    "import numpy as np\n",
    "import pandas as pd\n",
    "import random as rn\n",
    "\n",
    "import matplotlib.pyplot as plt\n",
    "#from keras.callbacks import TensorBoard\n",
    "\n",
    "import time\n",
    "from sklearn import preprocessing\n",
    "from sklearn.model_selection import cross_val_score\n",
    "from sklearn.model_selection import KFold\n",
    "from sklearn.metrics import mean_squared_error\n",
    "from sklearn.metrics import mean_absolute_error\n",
    "from sklearn.model_selection import GridSearchCV\n",
    "from sklearn import datasets, linear_model\n",
    "\n",
    "import torch\n",
    "import torch.nn.functional as F\n",
    "import torch.nn as nn\n",
    "from torch.autograd import Variable\n"
   ]
  },
  {
   "cell_type": "code",
   "execution_count": 2,
   "metadata": {},
   "outputs": [
    {
     "name": "stdout",
     "output_type": "stream",
     "text": [
      "(165, 4)\n",
      "(8719, 6)\n",
      "(856, 143)\n"
     ]
    }
   ],
   "source": [
    "# load dataset\n",
    "subject_info = pd.read_csv(\"data/outd01_all_subject_info.txt\", delimiter = \" \")\n",
    "print(subject_info.shape)\n",
    "\n",
    "subject_info_all = pd.read_csv(\"data/pnc_subject_info.csv\", delimiter = \",\")\n",
    "print(subject_info_all.shape)\n",
    "# print(subject_info_all[:5])\n",
    "\n",
    "# vbm analysis of cat12, 856 subjects. \n",
    "#It contains subjects in the ptsd group. So we need to remove them in training stage.\n",
    "cat_vbm = pd.read_csv(\"data/ROI_catROI_neuromorphometrics_Vgm.csv\", delimiter = \",\")\n",
    "#spm_vbm_aal = pd.read_csv(\"data/AvgExtract_GMV_AAL.csv\", delimiter = \"\\t\")\n",
    "print(cat_vbm.shape)\n",
    "# print(cat_vbm[:5])\n"
   ]
  },
  {
   "cell_type": "code",
   "execution_count": 3,
   "metadata": {},
   "outputs": [
    {
     "name": "stdout",
     "output_type": "stream",
     "text": [
      "label fa:\n",
      "(856, 50)\n",
      "tract fa:\n",
      "(856, 20)\n"
     ]
    }
   ],
   "source": [
    "## read label FA features:\n",
    "label_fa_list = []\n",
    "for i in range(6): \n",
    "    fa_sub = pd.read_csv(\"data/WMlabelResults_FA\" + str(i+1) + \".csv\")\n",
    "    label_fa_list.append(fa_sub)\n",
    "\n",
    "label_fa = pd.concat(label_fa_list, ignore_index = True)\n",
    "label_fa.to_csv(\"data/WMlabelResults_FA_all.csv\")\n",
    "label_fa = label_fa.drop(['Unnamed: 0'], axis = 1)\n",
    "\n",
    "# remove the last column which is empty.\n",
    "num_col_fa=len(label_fa.columns) \n",
    "label_fa=label_fa.iloc[:,:num_col_fa-1]\n",
    "\n",
    "print(\"label fa:\")\n",
    "print(label_fa.shape)\n",
    "# print(label_fa[:5])\n",
    "\n",
    "## read tract FA features:\n",
    "tract_fa_list = []\n",
    "for i in range(6): \n",
    "    fa_sub = pd.read_csv(\"data/WMtractResults_FA\" + str(i+1) + \".txt\", delimiter = \"\\t\")\n",
    "    tract_fa_list.append(fa_sub)\n",
    "\n",
    "tract_fa = pd.concat(tract_fa_list, ignore_index = True)\n",
    "tract_fa.to_csv(\"data/WMtractResults_FA_all.csv\")\n",
    "\n",
    "# print(\"tract fa:\")\n",
    "# print(tract_fa.shape)\n",
    "# print(tract_fa[:5])\n",
    "\n",
    "tract_fa = tract_fa.drop(['Unnamed: 0'], axis = 1)\n",
    "# remove the last column which is empty.\n",
    "num_col_fa=len(tract_fa.columns) \n",
    "tract_fa=tract_fa.iloc[:,:num_col_fa-1]\n",
    "\n",
    "print(\"tract fa:\")\n",
    "print(tract_fa.shape)\n",
    "# print(tract_fa[:5])\n"
   ]
  },
  {
   "cell_type": "code",
   "execution_count": 4,
   "metadata": {},
   "outputs": [
    {
     "name": "stdout",
     "output_type": "stream",
     "text": [
      "tract md:\n",
      "(856, 20)\n",
      "label md:\n",
      "(856, 50)\n"
     ]
    }
   ],
   "source": [
    "## read tract MD features:\n",
    "tract_md_list = []\n",
    "for i in range(6): \n",
    "    md_sub = pd.read_csv(\"data/WMtractResults_MD\" + str(i+1) + \".csv\")\n",
    "    tract_md_list.append(md_sub)\n",
    "\n",
    "tract_md = pd.concat(tract_md_list, ignore_index = True)\n",
    "tract_md.to_csv(\"data/WMtractResults_MD_all.csv\")\n",
    "\n",
    "# print(\"tract md:\")\n",
    "# print(tract_md.shape)\n",
    "# print(tract_md.head(5))\n",
    "\n",
    "# print(tract_md.iloc[:,0])\n",
    "tract_md = tract_md.drop(['Unnamed: 0'], axis = 1)\n",
    "# remove the last column which is empty.\n",
    "num_col_md=len(tract_md.columns)\n",
    "tract_md=tract_md.iloc[:,:num_col_md-1]\n",
    "\n",
    "print(\"tract md:\")\n",
    "print(tract_md.shape)\n",
    "# print(tract_md.head(5))\n",
    "\n",
    "## read label MD features:\n",
    "label_md_list = []\n",
    "for i in range(6): \n",
    "    md_sub = pd.read_csv(\"data/WMlabelResults_MD\" + str(i+1) + \".txt\", delimiter = \"\\t\")\n",
    "    label_md_list.append(md_sub)\n",
    "\n",
    "label_md = pd.concat(label_md_list, ignore_index = True)\n",
    "label_md.to_csv(\"data/WMlabelResults_MD_all.csv\")\n",
    "label_md = label_md.drop(['Unnamed: 0'], axis = 1)\n",
    "\n",
    "# remove the last column which is empty.\n",
    "num_col_md=len(label_md.columns) \n",
    "label_md=label_md.iloc[:,:num_col_md-1]\n",
    "\n",
    "print(\"label md:\")\n",
    "print(label_md.shape)\n",
    "# print(label_md[:5])\n"
   ]
  },
  {
   "cell_type": "code",
   "execution_count": 5,
   "metadata": {},
   "outputs": [
    {
     "name": "stdout",
     "output_type": "stream",
     "text": [
      "alff\n",
      "(856, 246)\n",
      "falff\n",
      "(856, 245)\n",
      "reho\n",
      "(856, 246)\n"
     ]
    }
   ],
   "source": [
    "# combine vbm and label_fa\n",
    "# it's strange that reset_index also removes column names. so we ignore_index in concat label_fa_list.\n",
    "# otherwise, we cannot concat cat_vbm and label_fa.\n",
    "# cat_vbm.reset_index(drop=True, inplace=True)\n",
    "# label_fa_drop.reset_index(drop=True, inplace=True)\n",
    "\n",
    "# read resting state features:\n",
    "alff = pd.read_csv(\"data/ALFF_AvgExtract.txt\", delimiter = \"\\t\")\n",
    "#print(alff.head(5))\n",
    "alff = alff.drop(['Unnamed: 0'], axis = 1)\n",
    "# remove the last column which is empty.\n",
    "num_col_alff=len(alff.columns) \n",
    "alff=alff.iloc[:,:num_col_alff-1]\n",
    "print(\"alff\")\n",
    "# print(alff.head(5))\n",
    "print(alff.shape)\n",
    "\n",
    "falff = pd.read_csv(\"data/fALFF_AvgExtract.txt\", delimiter = \"\\t\")\n",
    "falff = falff.drop(['Unnamed: 0'], axis = 1)\n",
    "# remove the last column which is empty.\n",
    "num_col_falff=len(alff.columns) \n",
    "falff=falff.iloc[:,:num_col_falff-1]\n",
    "print(\"falff\")\n",
    "print(falff.shape)\n",
    "\n",
    "reho = pd.read_csv(\"data/Reho_AvgExtract.txt\", delimiter = \"\\t\")\n",
    "reho = reho.drop(['Unnamed: 0'], axis = 1)\n",
    "# remove the last column which is empty.\n",
    "num_col_reho=len(reho.columns) \n",
    "reho=reho.iloc[:,:num_col_reho-1]\n",
    "print(\"reho\")\n",
    "print(reho.shape)\n",
    "\n",
    "ReHo = pd.concat([cat_vbm.names, reho], axis = 1)\n",
    "ALFF = pd.concat([cat_vbm.names, alff], axis = 1)\n",
    "fALFF = pd.concat([cat_vbm.names, falff], axis = 1)\n",
    "\n",
    "fa = pd.concat([cat_vbm.names, label_fa, tract_fa], axis = 1)\n",
    "md = pd.concat([cat_vbm.names, label_md, tract_md], axis = 1)\n",
    "\n",
    "vbm_fa = pd.concat([cat_vbm, label_fa, tract_fa], axis = 1)\n",
    "vbm_md = pd.concat([cat_vbm, label_md, tract_md], axis = 1)\n",
    "vbm_dti = pd.concat([cat_vbm, label_fa, tract_fa, label_md, tract_md], axis = 1)\n",
    "\n",
    "vbm_reho = pd.concat([cat_vbm, reho], axis = 1)\n",
    "vbm_alff = pd.concat([cat_vbm, alff], axis = 1)\n",
    "vbm_falff = pd.concat([cat_vbm, falff], axis = 1)\n",
    "\n",
    "vbm_alff_reho = pd.concat([cat_vbm, alff, reho], axis = 1)\n",
    "vbm_falff_reho = pd.concat([cat_vbm, falff, reho], axis = 1)\n",
    "\n",
    "vbm_dti_alff_reho = pd.concat([cat_vbm, label_fa, tract_fa, label_md, tract_md, alff, reho], axis = 1)\n",
    "vbm_dti_falff_reho = pd.concat([cat_vbm, label_fa, tract_fa, label_md, tract_md, falff, reho], axis = 1)\n",
    "\n",
    "#brain_feature = pd.concat([cat_vbm, label_md_drop, tract_md_drop], axis = 1)\n",
    "#brain_feature = cat_vbm\n",
    "\n",
    "# print(brain_feature)\n",
    "# print(brain_feature.head(5))\n",
    "\n",
    "brain_feature_list = [[cat_vbm, \"cat_vbm\"], \n",
    "                      [ReHo, \"reho\"],\n",
    "                      [ALFF, \"alff\"],\n",
    "                      [fALFF, \"falff\"],\n",
    "                      [fa, \"fa\"],\n",
    "                      [md, \"md\"],\n",
    "                      [vbm_fa, \"vbm_fa\"],\n",
    "                      [vbm_md, \"vbm_md\"],\n",
    "                      [vbm_dti, \"vbm_dti\"],\n",
    "                      [vbm_alff, \"vbm_alff\"],\n",
    "                      [vbm_falff, \"vbm_falff\"],\n",
    "                      [vbm_reho, \"vbm_reho\"],\n",
    "                      [vbm_alff_reho, \"vbm_alff_reho\"],\n",
    "                      [vbm_falff_reho, \"vbm_falff_reho\"],\n",
    "                      [vbm_dti_alff_reho, \"vbm_dti_alff_reho\"],\n",
    "                      [vbm_dti_falff_reho, \"vbm_dit_falff_reho\"]\n",
    "                     ]"
   ]
  },
  {
   "cell_type": "code",
   "execution_count": 6,
   "metadata": {},
   "outputs": [
    {
     "name": "stdout",
     "output_type": "stream",
     "text": [
      "(4193, 9)\n"
     ]
    }
   ],
   "source": [
    "# merge dataframes.\n",
    "subject_info_merge = subject_info_all.merge(subject_info, how = \"left\", on = \"SUBJID\")\n",
    "# subject_info_merge = subject_info_merge.merge(cat_vbm.names, how = \"inner\", left_on = \"SUBJID\", right_on = \"names\")\n",
    "subject_info_merge['Sex_x'] = subject_info_merge['Sex_x'].replace({\"F\", \"M\"}, {0, 1})\n",
    "subject_info_merge.ptsd = subject_info_merge.ptsd.fillna(0)\n",
    "\n",
    "# remove samples with Med_rating higher than 1:\n",
    "subject_info_merge = subject_info_merge.loc[subject_info_merge[\"Med_Rating\"]<2]\n",
    "print(subject_info_merge.shape)\n",
    "\n",
    "subject_info_merge.to_csv(\"XXX_subject_info_merge.csv\", sep = \",\")\n",
    "\n",
    "subject_info_hc = subject_info_merge.loc[subject_info_merge[\"ptsd\"]==0]\n",
    "subject_info_ptsd = subject_info_merge.loc[subject_info_merge[\"ptsd\"]==2]\n",
    "subject_info_trauma = subject_info_merge.loc[subject_info_merge[\"ptsd\"]==1]\n"
   ]
  },
  {
   "cell_type": "markdown",
   "metadata": {},
   "source": [
    "### Feature Selection"
   ]
  },
  {
   "cell_type": "code",
   "execution_count": 7,
   "metadata": {},
   "outputs": [],
   "source": [
    "# get Features\n",
    "vbm_dti_alff_reho, vbm_dti_alff_reho_name = brain_feature_list[14]\n",
    "vbm_dti_alff_reho.shape\n",
    "\n",
    "## prepare for data\n",
    "# train model with all HC data:\n",
    "brain_feature = vbm_dti_alff_reho\n",
    "\n",
    "# merge subject info with brain imaging data:\n",
    "feature_merge = subject_info_hc.merge(brain_feature, how = \"inner\", left_on = \"SUBJID\", right_on = \"names\")\n",
    "Y_hc = feature_merge[[\"age_at_cnb\"]].values\n",
    "Y_hc = Y_hc.flatten()\n",
    "# remove duplicated and unneeded features.\n",
    "# Does adding Sex_x have any benefit???\n",
    "feature_merge = feature_merge.drop(columns = [\"SUBJID\", \"age_at_cnb\", \"Race\", \"ptsd\", \"Med_Rating\", \"Med_birth_year\", \"Sex_y\", \"age\", \"names\"])\n",
    "X_hc = feature_merge.values\n",
    "# print(Y_hc)\n",
    "# print(X_hc)\n",
    "\n",
    "# remove NaNs:\n",
    "nan_idx = np.isnan(Y_hc)\n",
    "Y_hc = Y_hc[~nan_idx]\n",
    "X_hc = X_hc[~nan_idx,:]"
   ]
  },
  {
   "cell_type": "code",
   "execution_count": 8,
   "metadata": {},
   "outputs": [],
   "source": [
    "X = preprocessing.scale(X_hc)\n",
    "age = Y_hc"
   ]
  },
  {
   "cell_type": "markdown",
   "metadata": {},
   "source": [
    "### DNN with pytorch"
   ]
  },
  {
   "cell_type": "code",
   "execution_count": 9,
   "metadata": {},
   "outputs": [],
   "source": [
    "from sklearn.model_selection import train_test_split\n",
    "X_train, X_test, Y_train, Y_test = train_test_split(X, age, test_size = 0.2, random_state = 42)"
   ]
  },
  {
   "cell_type": "code",
   "execution_count": 10,
   "metadata": {},
   "outputs": [],
   "source": [
    "X_train1 = Variable(torch.from_numpy(X_train))\n",
    "Y_train1 = Variable(torch.from_numpy(Y_train))\n",
    "X_train1 = X_train1.float()\n",
    "Y_train1 = Y_train1.float()\n",
    "\n",
    "X_test1 = Variable(torch.from_numpy(X_test))\n",
    "X_test1 = X_test1.float()"
   ]
  },
  {
   "cell_type": "code",
   "execution_count": 11,
   "metadata": {},
   "outputs": [],
   "source": [
    "torch.manual_seed(999)    # reproducible\n",
    "# https://discuss.pytorch.org/t/size-mismatch-beginner-troubles/16789\n",
    "# model setup\n",
    "n_hidden = 50\n",
    "class Model(torch.nn.Module): \n",
    "    \n",
    "    def __init__(self):\n",
    "        super(Model, self).__init__()\n",
    "        self.layer1 = nn.Linear(X.shape[1], 500)\n",
    "        self.layer2 = nn.Linear(500, n_hidden)\n",
    "        self.layer3 = nn.Linear(n_hidden, n_hidden)\n",
    "        self.layer4 = nn.Linear(n_hidden, 1)\n",
    "        \n",
    "        self.sigmoid = torch.nn.Sigmoid()\n",
    "        # self.dropout = nn.Dropout(0.5)  \n",
    "            \n",
    "    def forward (self, x):\n",
    "        # out1 = F.relu(self.layer1(x)) # activation function for hidden layer\n",
    "        out1 = self.sigmoid(self.layer1(x))\n",
    "        #out1 = self.dropout(out1)\n",
    "        out2 = self.sigmoid(self.layer2(out1))\n",
    "        #out2 = self.dropout(out2)\n",
    "        out3 = self.sigmoid(self.layer3(out2))\n",
    "        #out3 = self.dropout(out3)\n",
    "        y_pred = self.layer4(out3) # linear output\n",
    "        return y_pred\n",
    "    \n",
    "net = Model()"
   ]
  },
  {
   "cell_type": "code",
   "execution_count": 12,
   "metadata": {},
   "outputs": [],
   "source": [
    "# print(net) "
   ]
  },
  {
   "cell_type": "code",
   "execution_count": 13,
   "metadata": {},
   "outputs": [],
   "source": [
    "\n",
    "criterion = nn.MSELoss()# Mean Squared Loss\n",
    "l_rate = 0.001\n",
    "optimizer = torch.optim.SGD(net.parameters(), \n",
    "                            lr = l_rate, \n",
    "                            weight_decay=1e-6) \n",
    "#                             momentum=0.9, \n",
    "#                             nesterov=True) #Stochastic Gradient Descent\n",
    "\n",
    "epochs = 2000 "
   ]
  },
  {
   "cell_type": "code",
   "execution_count": 15,
   "metadata": {},
   "outputs": [
    {
     "name": "stderr",
     "output_type": "stream",
     "text": [
      "/home/xin/environments/lib/python3.6/site-packages/ipykernel_launcher.py:21: UserWarning: invalid index of a 0-dim tensor. This will be an error in PyTorch 0.5. Use tensor.item() to convert a 0-dim tensor to a Python number\n"
     ]
    },
    {
     "name": "stdout",
     "output_type": "stream",
     "text": [
      "epoch 0, loss 3.27\n",
      "epoch 100, loss 3.10\n",
      "epoch 200, loss 2.94\n",
      "epoch 300, loss 2.79\n",
      "epoch 400, loss 2.65\n",
      "epoch 500, loss 2.52\n",
      "epoch 600, loss 2.41\n",
      "epoch 700, loss 2.30\n",
      "epoch 800, loss 2.21\n",
      "epoch 900, loss 2.12\n",
      "epoch 1000, loss 2.04\n",
      "epoch 1100, loss 1.96\n",
      "epoch 1200, loss 1.89\n",
      "epoch 1300, loss 1.82\n",
      "epoch 1400, loss 1.75\n",
      "epoch 1500, loss 1.69\n",
      "epoch 1600, loss 1.63\n",
      "epoch 1700, loss 1.57\n",
      "epoch 1800, loss 1.52\n",
      "epoch 1900, loss 1.46\n"
     ]
    }
   ],
   "source": [
    "inputs = X_train1\n",
    "labels = Y_train1.view(Y_train.shape[0],1)\n",
    "# Collect errors to evaluate performance\n",
    "errorlist = [];\n",
    "for epoch in range(epochs):\n",
    "\n",
    "    #increase the number of epochs by 1 every time\n",
    "    #epoch +=1\n",
    "    \n",
    "    #clear grads \n",
    "    optimizer.zero_grad()\n",
    "    #forward to get predicted values\n",
    "    outputs = net(inputs) # model predict,  outputs = net.forward(inputs)\n",
    "    loss = criterion(outputs, labels)\n",
    "    loss.backward()# back props\n",
    "    optimizer.step()# update the parameters \n",
    "    \n",
    "    errorlist = np.append(errorlist,loss.item()) \n",
    "    \n",
    "    if epoch % 100 == 0:\n",
    "        print('epoch {}, loss {:.2f}'.format(epoch,loss.data[0]))\n",
    "    \n",
    "#     if (epoch > 2100) & (epoch % 10 == 0):   \n",
    "#         y_train_pred = net(X_train1)\n",
    "#         y_train_pred = y_train_pred.detach().numpy()\n",
    "#         corr_train = np.corrcoef(Y_train, y_train_pred.flatten())[0,1]\n",
    "#         # print(\"Train data correlation %.3f \" % corr_train)\n",
    "        \n",
    "#         X_prediction = net(X_test1)\n",
    "#         X_prediction = X_prediction.detach().numpy()\n",
    "#         corr_test = np.corrcoef(Y_test, X_prediction.flatten())[0,1]\n",
    "#         print(\"Train, Test data correlation %.3f %.3f\" % (corr_train, corr_test))"
   ]
  },
  {
   "cell_type": "code",
   "execution_count": 16,
   "metadata": {},
   "outputs": [
    {
     "name": "stdout",
     "output_type": "stream",
     "text": [
      "Train data correlation 0.932 \n"
     ]
    }
   ],
   "source": [
    "y_train_pred = net(X_train1)\n",
    "y_train_pred = y_train_pred.detach().numpy()\n",
    "corr_train = np.corrcoef(Y_train, y_train_pred.flatten())[0,1]\n",
    "print(\"Train data correlation %.3f \" % corr_train)"
   ]
  },
  {
   "cell_type": "code",
   "execution_count": 17,
   "metadata": {},
   "outputs": [
    {
     "name": "stdout",
     "output_type": "stream",
     "text": [
      "Test data correlation 0.849 \n"
     ]
    }
   ],
   "source": [
    "X_prediction = net(X_test1)\n",
    "X_prediction = X_prediction.detach().numpy()\n",
    "corr_test = np.corrcoef(Y_test, X_prediction.flatten())[0,1]\n",
    "print(\"Test data correlation %.3f \" % corr_test)"
   ]
  },
  {
   "cell_type": "code",
   "execution_count": 18,
   "metadata": {},
   "outputs": [
    {
     "data": {
      "image/png": "[encoded data removed]",
      "text/plain": [
       "<Figure size 432x288 with 1 Axes>"
      ]
     },
     "metadata": {},
     "output_type": "display_data"
    }
   ],
   "source": [
    "plt.plot(errorlist,'--.g')\n",
    "plt.title(\"Mean Squarred Error\")\n",
    "plt.xlabel(\"Batch Iteration Number\")\n",
    "plt.ylabel(\"Error\")\n",
    "plt.show()"
   ]
  },
  {
   "cell_type": "markdown",
   "metadata": {},
   "source": [
    "### Gaussian Process Regression"
   ]
  },
  {
   "cell_type": "code",
   "execution_count": 1,
   "metadata": {},
   "outputs": [],
   "source": [
    "from sklearn.gaussian_process import GaussianProcessRegressor\n",
    "from sklearn.gaussian_process.kernels import RBF, DotProduct, WhiteKernel, ExpSineSquared, ConstantKernel as C"
   ]
  },
  {
   "cell_type": "code",
   "execution_count": 11,
   "metadata": {},
   "outputs": [],
   "source": [
    "# kernel = DotProduct(1, (1e-2, 1e2)) + WhiteKernel(1,(0.01, 100)) # 8.26\n",
    "kernel = C(1.0, (1e-3, 1e3)) * RBF(10, (1e-2, 1e2)) + WhiteKernel(0.01) # 5.76\n",
    "gp = GaussianProcessRegressor(kernel=kernel, n_restarts_optimizer=9)"
   ]
  },
  {
   "cell_type": "code",
   "execution_count": 16,
   "metadata": {},
   "outputs": [
    {
     "name": "stdout",
     "output_type": "stream",
     "text": [
      "GPR complexity and bandwidth selected and model fitted in 12.746 s\n"
     ]
    }
   ],
   "source": [
    "t0 = time.time()\n",
    "gp.fit(X_train, Y_train)\n",
    "gpr_fit = time.time() - t0\n",
    "print(\"GPR complexity and bandwidth selected and model fitted in %.3f s\"\n",
    "      % gpr_fit)"
   ]
  },
  {
   "cell_type": "code",
   "execution_count": 17,
   "metadata": {},
   "outputs": [
    {
     "data": {
      "text/plain": [
       "0.8083699308613113"
      ]
     },
     "execution_count": 17,
     "metadata": {},
     "output_type": "execute_result"
    }
   ],
   "source": [
    "Y_pred_gpr, Y_std = gp.predict(X_test, return_std=True)\n",
    "r_hc = np.corrcoef(Y_test.flatten(), Y_pred_gpr)\n",
    "r_hc[1, 0]"
   ]
  },
  {
   "cell_type": "code",
   "execution_count": 14,
   "metadata": {},
   "outputs": [
    {
     "data": {
      "text/plain": [
       "8.58**2 * RBF(length_scale=100) + WhiteKernel(noise_level=1.45)"
      ]
     },
     "execution_count": 14,
     "metadata": {},
     "output_type": "execute_result"
    }
   ],
   "source": [
    "gp.kernel_"
   ]
  },
  {
   "cell_type": "code",
   "execution_count": null,
   "metadata": {},
   "outputs": [],
   "source": [
    "\n"
   ]
  }
 ],
 "metadata": {
  "kernelspec": {
   "display_name": "Python 3",
   "language": "python",
   "name": "python3"
  },
  "language_info": {
   "codemirror_mode": {
    "name": "ipython",
    "version": 3
   },
   "file_extension": ".py",
   "mimetype": "text/x-python",
   "name": "python",
   "nbconvert_exporter": "python",
   "pygments_lexer": "ipython3",
   "version": "3.6.5"
  }
 },
 "nbformat": 4,
 "nbformat_minor": 2
}
