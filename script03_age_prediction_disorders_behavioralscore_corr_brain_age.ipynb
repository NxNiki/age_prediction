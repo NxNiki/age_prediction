{
 "cells": [
  {
   "cell_type": "code",
   "execution_count": 2,
   "metadata": {},
   "outputs": [],
   "source": [
    "import pandas as pd\n",
    "import numpy as np\n",
    "    \n",
    "# reading behavioral scores:\n",
    "#subject_behav = pd.read_csv(\"data/result01_pnc_data.csv\", delimiter = \",\")\n",
    "# read file with FA components:\n",
    "subject_behav = pd.read_csv(\"data/pnc_cognitive_response.csv\", delimiter = \",\")\n",
    "#subject_behav = pd.read_csv(\"data/result01_pnc_data_merge.csv\", delimiter = \",\")\n",
    "# print(\"subject_behav:\")\n",
    "# print(subject_behav[0:5])\n",
    "\n",
    "#print(subject_info_behav[subject_info_behav.duplicated(subset = \"SUBJID\", keep = False)])\n",
    "\n",
    "# accuracy_col = [\n",
    "#     \"ABF_A_ar_z\", \"ATT_A_ar_z\", \"WM_A_ar_z\", \n",
    "#     \"VMEM_A_ar_z\", \"FMEM_A_ar_z\", \"SMEM_A_ar_z\", \n",
    "#     \"LAN_A_ar_z\", \"NVR_A_ar_z\", \"SPA_A_ar_z\", \n",
    "#     \"EID_A_ar_z\", \"EDI_A_ar_z\", \"ADI_A_ar_z\"]\n",
    "\n",
    "# speed_col = [\n",
    "#     \"ABF_S_ar_z\", \"ATT_S_ar_z\", \"WM_S_ar_z\", \n",
    "#     \"VMEM_S_ar_z\", \"FMEM_S_ar_z\", \"SMEM_S_ar_z\", \n",
    "#     \"LAN_S_ar_z\", \"NVR_S_ar_z\", \"SPA_S_ar_z\", \n",
    "#     \"EID_S_ar_z\", \"EDI_S_ar_z\", \"ADI_S_ar_z\", \n",
    "#     \"MOT_S_ar_z\", \"SM_S_ar_z\"]\n",
    "\n",
    "# cog_score_label = accuracy_col + speed_col\n",
    "\n",
    "\n",
    "cog_label_acc = [\n",
    "    # executive control:\n",
    "    \"pcet_acc2\",\n",
    "    \"pcpt_t_tp\",\n",
    "    \"lnb_tp2\",\n",
    "    # episodic memory task:\n",
    "    \"pwmt_kiwrd_tot\",\n",
    "    \"pfmt_ifac_tot\",\n",
    "    \"volt_svt\",\n",
    "    # complex cognitive task:\n",
    "    \"pvrt_cr\",\n",
    "    \"pmat_cr\",\n",
    "    \"plot_tc\",\n",
    "    # social cognition task:\n",
    "    \"peit_cr\",\n",
    "    \"pedt_a\",\n",
    "    \"padt_a\"\n",
    "]\n",
    "\n",
    "cog_label_speed = [\n",
    "    # executive control:\n",
    "    \"pcet_rtcr\",\n",
    "    \"pcpt_t_tprt\",\n",
    "    \"lnb_rtc2\",\n",
    "    # episodic memory task:\n",
    "    \"pwmt_kiwrd_rtc\",\n",
    "    \"pfmt_ifac_rtc\",\n",
    "    \"volt_svtcrt\",\n",
    "    # complex cognitive task:\n",
    "    \"pvrt_rtcr\",\n",
    "    \"pmat_rtcr\",\n",
    "    \"plot_tcrt\",\n",
    "    # social cognition task:\n",
    "    \"peit_crt\",\n",
    "    \"pedt_t\",\n",
    "    \"padt_t\",\n",
    "    # sensorimotor speed task:\n",
    "    \"mp_mp2rtcr\",\n",
    "    \"tap_tot\"\n",
    "]\n",
    "\n",
    "cog_label_acc2 = [\n",
    "    # executive control:\n",
    "    \"ABF\",\n",
    "    \"ATT\",\n",
    "    \"WM\",\n",
    "    # episodic memory task:\n",
    "    \"VMEM\",\n",
    "    \"FMEM\",\n",
    "    \"SMEM\",\n",
    "    # complex cognitive task:\n",
    "    \"LAN\",\n",
    "    \"NVR\",\n",
    "    \"SPA\",\n",
    "    # social cognition task:\n",
    "    \"EID\",\n",
    "    \"EDI\",\n",
    "    \"ADI\"\n",
    "]\n",
    "\n",
    "cog_label_speed2 = [\n",
    "    # executive control:\n",
    "    \"ABF\",\n",
    "    \"ATT\",\n",
    "    \"WM\",\n",
    "    # episodic memory task:\n",
    "    \"VMEM\",\n",
    "    \"FMEM\",\n",
    "    \"SMEM\",\n",
    "    # complex cognitive task:\n",
    "    \"LAN\",\n",
    "    \"NVR\",\n",
    "    \"SPA\",\n",
    "    # social cognition task:\n",
    "    \"EID\",\n",
    "    \"EDI\",\n",
    "    \"ADI\",\n",
    "    # sensorimotor speed task:\n",
    "    \"MOT\",\n",
    "    \"SM\"\n",
    "]\n",
    "\n",
    "cog_label = cog_label_acc + cog_label_speed\n",
    "cog_label2 = [s + '_Accuracy' for s in cog_label_acc2] + [s + '_Speed' for s in cog_label_speed2]\n",
    "\n",
    "#print(subject_info_behav[[\"mp_mp2rtcr\", \"tap_tot\"]])\n",
    "# revert the speed cognitive scores:\n",
    "subject_behav[cog_label_speed] = subject_behav[cog_label_speed]*(-1)\n",
    "\n",
    "file_dir = 'result/disorders/'\n",
    "# disorder = 'smry_phb'\n",
    "# disorder = 'HC'\n",
    "# disorder = 'smry_ptd'\n",
    "# disorder = 'smry_soc'\n",
    "disorder = 'smry_dep'\n",
    "\n",
    "scatter_ridge = pd.read_csv(\"result/allsubjects/out02_scatter_data_gender_ridge.csv\", delimiter = \",\")\n",
    "scatter_svr = pd.read_csv(\"result/allsubjects/out02_scatter_data_gender_svr.csv\", delimiter = \",\")\n",
    "scatter_gpr = pd.read_csv(\"result/allsubjects/out02_scatter_data_gender_gpr.csv\", delimiter = \",\")\n",
    "scatter_dnn = pd.read_csv(\"result/allsubjects/out02_scatter_data_gender_dnn.csv\", delimiter = \",\")\n"
   ]
  },
  {
   "cell_type": "code",
   "execution_count": 4,
   "metadata": {},
   "outputs": [
    {
     "data": {
      "text/html": [
       "<div>\n",
       "<style scoped>\n",
       "    .dataframe tbody tr th:only-of-type {\n",
       "        vertical-align: middle;\n",
       "    }\n",
       "\n",
       "    .dataframe tbody tr th {\n",
       "        vertical-align: top;\n",
       "    }\n",
       "\n",
       "    .dataframe thead th {\n",
       "        text-align: right;\n",
       "    }\n",
       "</style>\n",
       "<table border=\"1\" class=\"dataframe\">\n",
       "  <thead>\n",
       "    <tr style=\"text-align: right;\">\n",
       "      <th></th>\n",
       "      <th>feature</th>\n",
       "      <th>SUBJID</th>\n",
       "      <th>CV</th>\n",
       "      <th>chronological age</th>\n",
       "      <th>brain age</th>\n",
       "      <th>Sex</th>\n",
       "      <th>brain age fit sex</th>\n",
       "      <th>brain age fit</th>\n",
       "    </tr>\n",
       "  </thead>\n",
       "  <tbody>\n",
       "    <tr>\n",
       "      <th>0</th>\n",
       "      <td>ALFF</td>\n",
       "      <td>601249791321</td>\n",
       "      <td>7</td>\n",
       "      <td>9.0</td>\n",
       "      <td>10.461285</td>\n",
       "      <td>F</td>\n",
       "      <td>11.141371</td>\n",
       "      <td>10.813930</td>\n",
       "    </tr>\n",
       "    <tr>\n",
       "      <th>1</th>\n",
       "      <td>ALFF</td>\n",
       "      <td>601155992510</td>\n",
       "      <td>8</td>\n",
       "      <td>16.0</td>\n",
       "      <td>14.264945</td>\n",
       "      <td>M</td>\n",
       "      <td>15.266611</td>\n",
       "      <td>15.429108</td>\n",
       "    </tr>\n",
       "    <tr>\n",
       "      <th>2</th>\n",
       "      <td>ALFF</td>\n",
       "      <td>606939668352</td>\n",
       "      <td>6</td>\n",
       "      <td>18.0</td>\n",
       "      <td>13.891279</td>\n",
       "      <td>F</td>\n",
       "      <td>16.043166</td>\n",
       "      <td>16.159106</td>\n",
       "    </tr>\n",
       "    <tr>\n",
       "      <th>3</th>\n",
       "      <td>ALFF</td>\n",
       "      <td>609025109832</td>\n",
       "      <td>5</td>\n",
       "      <td>21.0</td>\n",
       "      <td>16.289315</td>\n",
       "      <td>F</td>\n",
       "      <td>16.030567</td>\n",
       "      <td>16.763582</td>\n",
       "    </tr>\n",
       "    <tr>\n",
       "      <th>4</th>\n",
       "      <td>ALFF</td>\n",
       "      <td>608414632504</td>\n",
       "      <td>1</td>\n",
       "      <td>10.0</td>\n",
       "      <td>10.395401</td>\n",
       "      <td>M</td>\n",
       "      <td>11.256257</td>\n",
       "      <td>11.669449</td>\n",
       "    </tr>\n",
       "  </tbody>\n",
       "</table>\n",
       "</div>"
      ],
      "text/plain": [
       "  feature        SUBJID  CV  chronological age  brain age Sex  \\\n",
       "0    ALFF  601249791321   7                9.0  10.461285   F   \n",
       "1    ALFF  601155992510   8               16.0  14.264945   M   \n",
       "2    ALFF  606939668352   6               18.0  13.891279   F   \n",
       "3    ALFF  609025109832   5               21.0  16.289315   F   \n",
       "4    ALFF  608414632504   1               10.0  10.395401   M   \n",
       "\n",
       "   brain age fit sex  brain age fit  \n",
       "0          11.141371      10.813930  \n",
       "1          15.266611      15.429108  \n",
       "2          16.043166      16.159106  \n",
       "3          16.030567      16.763582  \n",
       "4          11.256257      11.669449  "
      ]
     },
     "execution_count": 4,
     "metadata": {},
     "output_type": "execute_result"
    }
   ],
   "source": [
    "scatter_ridge.head()"
   ]
  },
  {
   "cell_type": "code",
   "execution_count": 3,
   "metadata": {},
   "outputs": [],
   "source": [
    "def behav_correlation(subject_behav, scatter_data, cog_score_label, corr_label):\n",
    "    scatter_data = scatter_data.loc[scatter_data['group'] == disorder]\n",
    "\n",
    "    # merge behave file and subject info:\n",
    "    subject_behav = subject_behav.merge(scatter_data, how = \"inner\", on = \"SUBJID\")\n",
    "    subject_behav['age gap corr'] = subject_behav['predict age'] - subject_behav['brain age fit']\n",
    "    # print(subject_behav_ridge[0:5])\n",
    "    print(subject_behav.shape)\n",
    "    \n",
    "    # pd.DataFrame.corr() is nan compatible:\n",
    "    corr_mat = subject_behav[corr_label + cog_score_label].corr()\n",
    "    return((corr_mat.iloc[0, 1:]))"
   ]
  },
  {
   "cell_type": "code",
   "execution_count": 3,
   "metadata": {},
   "outputs": [
    {
     "name": "stdout",
     "output_type": "stream",
     "text": [
      "(67, 158)\n",
      "(67, 158)\n",
      "(67, 158)\n",
      "(67, 158)\n",
      "         ridge       SVR       GPR       DNN\n",
      "ABF  -0.082733 -0.108943 -0.114555 -0.090585\n",
      "ATT   0.103729  0.181461  0.118329  0.171119\n",
      "WM    0.033414  0.079222  0.034370  0.114984\n",
      "VMEM  0.045525  0.105166  0.057529  0.147794\n",
      "FMEM -0.046127 -0.008398 -0.108283  0.026643\n",
      "SMEM  0.076265 -0.053499  0.000251  0.141470\n",
      "LAN   0.208614  0.191694  0.186606  0.280322\n",
      "NVR  -0.133831 -0.129469 -0.166166 -0.093577\n",
      "SPA  -0.112882 -0.202861 -0.197669 -0.135110\n",
      "EID  -0.162219 -0.081411 -0.149648 -0.026834\n",
      "EDI   0.267217  0.253760  0.242631  0.276335\n",
      "ADI   0.275354  0.249763  0.239004  0.226595\n"
     ]
    }
   ],
   "source": [
    "age_gap_behavacc_corr = pd.DataFrame(columns = ['ridge', 'SVR', 'GPR', 'DNN'])\n",
    "corr_label = ['age gap corr']\n",
    "\n",
    "age_gap_behavacc_corr['ridge'] = behav_correlation(subject_behav, scatter_ridge, cog_label_acc, corr_label)\n",
    "age_gap_behavacc_corr['SVR'] = behav_correlation(subject_behav, scatter_svr, cog_label_acc, corr_label)\n",
    "age_gap_behavacc_corr['GPR'] = behav_correlation(subject_behav, scatter_gpr, cog_label_acc, corr_label)\n",
    "age_gap_behavacc_corr['DNN'] = behav_correlation(subject_behav, scatter_dnn, cog_label_acc, corr_label)\n",
    "\n",
    "age_gap_behavacc_corr.index = cog_label_acc2\n",
    "print(age_gap_behavacc_corr)\n"
   ]
  },
  {
   "cell_type": "code",
   "execution_count": 4,
   "metadata": {},
   "outputs": [
    {
     "data": {
      "text/plain": [
       "Text(0.5, 1.0, 'Age gap corr')"
      ]
     },
     "execution_count": 4,
     "metadata": {},
     "output_type": "execute_result"
    }
   ],
   "source": [
    "import seaborn as sns\n",
    "import matplotlib.pyplot as plt\n",
    "\n",
    "plot_data = age_gap_behavacc_corr.reset_index()\n",
    "plot_data = pd.melt(plot_data, id_vars=['index'], var_name = 'method', value_name = 'correlation')\n",
    "plot_data.columns = ['cognitive score accuracy', 'method', 'correlation']\n",
    "# print(plot_data)\n",
    "\n",
    "sns.set(rc={'figure.figsize':(11.7,8.27)})\n",
    "ax = sns.barplot(x = \"cognitive score accuracy\", y = \"correlation\", hue = 'method', data = plot_data)\n",
    "ax.set_xticklabels(ax.get_xticklabels(), rotation=0)\n",
    "plt.title(\"Age gap corr\")"
   ]
  },
  {
   "cell_type": "code",
   "execution_count": 5,
   "metadata": {},
   "outputs": [
    {
     "name": "stdout",
     "output_type": "stream",
     "text": [
      "(67, 158)\n",
      "(67, 158)\n",
      "(67, 158)\n",
      "(67, 158)\n",
      "         ridge       SVR       GPR       DNN\n",
      "ABF  -0.237011 -0.165385 -0.177250 -0.155676\n",
      "ATT  -0.005765  0.040048 -0.023773 -0.014820\n",
      "WM    0.020221 -0.005696 -0.001554 -0.048160\n",
      "VMEM  0.128868  0.151252  0.069711  0.012402\n",
      "FMEM -0.113024 -0.079441 -0.123177 -0.129256\n",
      "SMEM  0.002229 -0.010173 -0.009932 -0.058343\n",
      "LAN   0.035408  0.122166  0.067557  0.074715\n",
      "NVR   0.137170  0.142814  0.179769  0.213051\n",
      "SPA  -0.162675 -0.165804 -0.148897 -0.153239\n",
      "EID   0.015829  0.081395  0.042978  0.056373\n",
      "EDI   0.065031  0.148910  0.140225  0.117673\n",
      "ADI  -0.144512 -0.072132 -0.114764 -0.115494\n",
      "MOT  -0.019383 -0.045769 -0.056577 -0.160391\n",
      "SM   -0.203772 -0.188221 -0.116958 -0.102862\n"
     ]
    }
   ],
   "source": [
    "age_gap_behavspeed_corr = pd.DataFrame(columns = ['ridge', 'SVR', 'GPR', 'DNN'])\n",
    "corr_label = ['age gap corr']\n",
    "\n",
    "age_gap_behavspeed_corr['ridge'] = behav_correlation(subject_behav, scatter_ridge, cog_label_speed, corr_label)\n",
    "age_gap_behavspeed_corr['SVR'] = behav_correlation(subject_behav, scatter_svr, cog_label_speed, corr_label)\n",
    "age_gap_behavspeed_corr['GPR'] = behav_correlation(subject_behav, scatter_gpr, cog_label_speed, corr_label)\n",
    "age_gap_behavspeed_corr['DNN'] = behav_correlation(subject_behav, scatter_dnn, cog_label_speed, corr_label)\n",
    "\n",
    "age_gap_behavspeed_corr.index = cog_label_speed2\n",
    "print(age_gap_behavspeed_corr)\n"
   ]
  },
  {
   "cell_type": "code",
   "execution_count": 6,
   "metadata": {},
   "outputs": [
    {
     "data": {
      "text/plain": [
       "Text(0.5, 1.0, 'Age gap corr')"
      ]
     },
     "execution_count": 6,
     "metadata": {},
     "output_type": "execute_result"
    },
    {
     "data": {
      "image/png": "[encoded data removed]",
      "text/plain": [
       "<Figure size 842.4x595.44 with 1 Axes>"
      ]
     },
     "metadata": {},
     "output_type": "display_data"
    }
   ],
   "source": [
    "import seaborn as sns\n",
    "import matplotlib.pyplot as plt\n",
    "\n",
    "plot_data = age_gap_behavspeed_corr.reset_index()\n",
    "plot_data = pd.melt(plot_data, id_vars=['index'], var_name = 'method', value_name = 'correlation')\n",
    "plot_data.columns = ['cognitive score speed', 'method', 'correlation']\n",
    "# print(plot_data)\n",
    "\n",
    "sns.set(rc={'figure.figsize':(11.7,8.27)})\n",
    "ax = sns.barplot(x = \"cognitive score speed\", y = \"correlation\", hue = 'method', data = plot_data)\n",
    "ax.set_xticklabels(ax.get_xticklabels(), rotation=0)\n",
    "plt.title(\"Age gap corr\")"
   ]
  },
  {
   "cell_type": "code",
   "execution_count": 7,
   "metadata": {},
   "outputs": [],
   "source": [
    "from sklearn.feature_selection import RFECV\n",
    "from sklearn.feature_selection import RFE\n",
    "from sklearn.linear_model import LinearRegression\n",
    "from sklearn import preprocessing\n",
    "\n",
    "\n",
    "def linear_regression_rfe(subject_behav, scatter_data, cog_score_label, \n",
    "                          y_label, n_features = 5, save_data = False):    \n",
    "    \n",
    "    scatter_data = scatter_data.loc[scatter_data['group'] == disorder]\n",
    "\n",
    "    # merge behave file and subject info:\n",
    "    subject_behav = subject_behav.merge(scatter_data, how = \"inner\", on = [\"SUBJID\", \"Sex\"])\n",
    "    \n",
    "    subject_behav['age gap corr'] = subject_behav['predict age'] - subject_behav['brain age fit']\n",
    "    subject_behav['age gap'] = subject_behav['predict age'] - subject_behav['age']\n",
    "    # print(any(np.isnan(y)))\n",
    "    # print(any(np.isnan(X)))\n",
    "    subject_behav_tosave = subject_behav[[\"SUBJID\", 'Sex', 'age', 'age gap corr', \n",
    "                                           'age gap', 'predict age', 'brain age fit'] + cog_score_label]\n",
    "    \n",
    "    if y_label == 'age gap':\n",
    "        print('add chronological age as predictors...')\n",
    "        cog_score_label = cog_score_label + ['age']\n",
    "    else:\n",
    "        cog_score_label = cog_score_label\n",
    "        \n",
    "    X_label = cog_score_label + [\"Sex\"]\n",
    "    \n",
    "    subject_behav.replace({'Sex': {'F': 0, 'M': 1}}, inplace = True)\n",
    "    X = subject_behav[X_label].values\n",
    "    y = subject_behav[y_label].values\n",
    "\n",
    "    nan_idx = np.isnan(X).any(axis=1)\n",
    "    y = y[~nan_idx]\n",
    "    X = X[~nan_idx,:]\n",
    "    X_scaled = preprocessing.scale(X)\n",
    "\n",
    "    estimator = LinearRegression()\n",
    "    #selector = RFECV(estimator, step=1, cv=5,  min_features_to_select=5)\n",
    "    selector = RFECV(estimator, step=1, cv=5)\n",
    "    #selector = RFE(estimator, step=1, n_features_to_select=n_features)\n",
    "    \n",
    "    selector = selector.fit(X_scaled, y)\n",
    "    \n",
    "    #print(selector.support_)\n",
    "    #print(selector.ranking_)\n",
    "\n",
    "    coefs = selector.estimator_.coef_\n",
    "#     print(coefs)\n",
    "    index = selector.support_\n",
    "    label = [X_label[i] for i in range(len(X_label)) if index[i]]\n",
    "#     print(label)\n",
    "    \n",
    "    rsquared = selector.score(X_scaled, y)\n",
    "    \n",
    "    coefs = pd.DataFrame(coefs, index = label, columns = ['beta'])\n",
    "    \n",
    "    if save_data:\n",
    "        return((coefs, rsquared, subject_behav_tosave))\n",
    "    else:\n",
    "        return((coefs, rsquared))\n",
    "\n",
    "def linear_regression(subject_behav, scatter_data, cog_score_label, y_label):\n",
    "    from sklearn.linear_model import LinearRegression\n",
    "    from sklearn import preprocessing\n",
    "    \n",
    "    scatter_data = scatter_data.loc[scatter_data['group'] == disorder]\n",
    "    \n",
    "    # merge behave file and subject info:\n",
    "    subject_behav = subject_behav.merge(scatter_data, how = \"inner\", on = \"SUBJID\")\n",
    "    subject_behav['age gap'] = subject_behav['predict age'] - subject_behav['chronological age']\n",
    "    subject_behav.replace({'Sex': {'F': 0, 'M': 1}}, inplace = True)\n",
    "    \n",
    "    # print(any(np.isnan(y)))\n",
    "    # print(any(np.isnan(X)))\n",
    "    \n",
    "    if y_label == 'age gap':\n",
    "        print('add chronological age as predictors...')\n",
    "        cog_score_label = cog_score_label + ['age']\n",
    "    else:\n",
    "        cog_score_label = cog_score_label\n",
    "        \n",
    "    X = subject_behav[cog_score_label + [\"Sex\"]].values\n",
    "    y = subject_behav[y_label].values\n",
    "\n",
    "    nan_idx = np.isnan(X).any(axis=1)\n",
    "    y = y[~nan_idx]\n",
    "    X = X[~nan_idx,:]\n",
    "    X_scaled = preprocessing.scale(X)\n",
    "\n",
    "    estimator = LinearRegression()\n",
    "    estimator = estimator.fit(X_scaled, y)\n",
    "\n",
    "    coefs = estimator_.coef_\n",
    "    \n",
    "    rsquared = selector.score(X_scaled, y)\n",
    "    coefs = pd.DataFrame(coefs, index = cog_score_label + [\"Sex\"], columns = ['beta'])\n",
    "    return((coefs, rsquared))"
   ]
  },
  {
   "cell_type": "code",
   "execution_count": 8,
   "metadata": {},
   "outputs": [
    {
     "name": "stdout",
     "output_type": "stream",
     "text": [
      "                                      beta\n",
      "ridge             pvrt_cr         0.658795\n",
      "SVR               pvrt_rtcr       0.551367\n",
      "GPR               volt_svt       -0.411601\n",
      "                  pvrt_cr         0.918349\n",
      "                  pmat_cr        -0.566183\n",
      "                  plot_tc        -0.341721\n",
      "                  peit_cr        -0.280128\n",
      "                  pedt_a          0.231726\n",
      "                  pcet_rtcr      -0.860925\n",
      "                  pwmt_kiwrd_rtc  0.499011\n",
      "                  pvrt_rtcr       0.650215\n",
      "                  padt_t         -0.589799\n",
      "                  tap_tot        -0.635629\n",
      "                  Sex            -0.571313\n",
      "DNN               pvrt_cr         1.097897\n",
      "                  pmat_cr        -0.888972\n",
      "                  pcet_rtcr      -1.244207\n",
      "                  pvrt_rtcr       0.926662\n",
      "                  tap_tot        -0.696045\n",
      "                  Sex            -0.841693\n",
      "Chronological age pfmt_ifac_tot   0.643297\n",
      "                  volt_svt       -0.522657\n",
      "                  padt_a          0.673087\n",
      "                  pcet_rtcr      -0.603182\n",
      "                  pwmt_kiwrd_rtc  0.688421\n",
      "                  pvrt_rtcr       0.568235\n",
      "                  pedt_t         -0.800538\n",
      "                  tap_tot        -0.528113\n",
      "              ridge        SVR       GPR       DNN  Chronological age\n",
      "rsquared  0.0603359  0.0484933  0.498168  0.421582           0.646851\n"
     ]
    }
   ],
   "source": [
    "brainage_behav_rsquare = pd.DataFrame(index = ['rsquared'], columns = ['ridge', 'SVR', 'GPR', 'DNN'])\n",
    "brainage_behav_coef = pd.DataFrame(columns = ['ridge', 'SVR', 'GPR', 'DNN'])\n",
    "\n",
    "column_name1 = [\"SUBJID\", 'Sex', 'chronological age', 'age gap corr', 'age gap', 'brain age', 'brain age fit'] \n",
    "\n",
    "coefs_ridge, brainage_behav_rsquare.loc['rsquared','ridge'], subject_behav_ridge = \\\n",
    "linear_regression_rfe(subject_behav, scatter_ridge,cog_label, y_label = 'predict age',save_data = True)\n",
    "\n",
    "subject_behav_ridge.columns = column_name1  + cog_label2\n",
    "subject_behav_ridge.to_csv(file_dir + 'out03_subject_behav_ridge_' + disorder + '.csv', index = False)\n",
    "\n",
    "\n",
    "coefs_svr, brainage_behav_rsquare.loc['rsquared','SVR'], subject_behav_svr = \\\n",
    "linear_regression_rfe(subject_behav, scatter_svr, cog_label, y_label = 'predict age', save_data = True)\n",
    "\n",
    "subject_behav_svr.columns = column_name1 + cog_label2\n",
    "subject_behav_svr.to_csv(file_dir + 'out03_subject_behav_svr_' + disorder + '.csv', index = False)\n",
    "\n",
    "\n",
    "coefs_gpr, brainage_behav_rsquare.loc['rsquared','GPR'], subject_behav_gpr = \\\n",
    "linear_regression_rfe(subject_behav, scatter_gpr,cog_label, y_label = 'predict age', save_data = True)\n",
    "\n",
    "subject_behav_gpr.columns = column_name1  + cog_label2\n",
    "subject_behav_gpr.to_csv(file_dir + 'out03_subject_behav_gpr_' + disorder + '.csv', index = False)\n",
    "\n",
    "\n",
    "coefs_dnn, brainage_behav_rsquare.loc['rsquared','DNN'], subject_behav_dnn = \\\n",
    "linear_regression_rfe(subject_behav, scatter_dnn,cog_label, y_label = 'predict age', save_data = True)\n",
    "\n",
    "subject_behav_dnn.columns = column_name1 + cog_label2\n",
    "subject_behav_dnn.to_csv(file_dir + 'out03_subject_behav_dnn_' + disorder + '.csv', index = False)\n",
    "\n",
    "\n",
    "coefs_chro, brainage_behav_rsquare.loc['rsquared','Chronological age'], subject_behav_dnn = \\\n",
    "linear_regression_rfe(subject_behav, scatter_dnn, cog_label, y_label = 'age', save_data = True)\n",
    "\n",
    "brainage_behav_coef = pd.concat([coefs_ridge, coefs_svr, coefs_gpr, coefs_dnn, coefs_chro], \n",
    "                                keys = ['ridge', 'SVR', 'GPR', 'DNN', 'Chronological age'])\n",
    "\n",
    "\n",
    "brainage_behav_coef = brainage_behav_coef\n",
    "brainage_behav_rsquare = brainage_behav_rsquare\n",
    "print(brainage_behav_coef)\n",
    "print(brainage_behav_rsquare)"
   ]
  },
  {
   "cell_type": "code",
   "execution_count": 9,
   "metadata": {},
   "outputs": [
    {
     "name": "stdout",
     "output_type": "stream",
     "text": [
      "                   ridge        SVR       GPR       DNN  Chronological age\n",
      "LAN_Accuracy    0.658795        NaN  0.918349    1.0979                NaN\n",
      "LAN_Speed            NaN   0.551367  0.650215  0.926662           0.568235\n",
      "SMEM_Accuracy        NaN        NaN -0.411601       NaN          -0.522657\n",
      "NVR_Accuracy         NaN        NaN -0.566183 -0.888972                NaN\n",
      "SPA_Accuracy         NaN        NaN -0.341721       NaN                NaN\n",
      "EID_Accuracy         NaN        NaN -0.280128       NaN                NaN\n",
      "EDI_Accuracy         NaN        NaN  0.231726       NaN                NaN\n",
      "ABF_Speed            NaN        NaN -0.860925  -1.24421          -0.603182\n",
      "VMEM_Speed           NaN        NaN  0.499011       NaN           0.688421\n",
      "ADI_Speed            NaN        NaN -0.589799       NaN                NaN\n",
      "SM_Speed             NaN        NaN -0.635629 -0.696045          -0.528113\n",
      "Sex                  NaN        NaN -0.571313 -0.841693                NaN\n",
      "FMEM_Accuracy        NaN        NaN       NaN       NaN           0.643297\n",
      "ADI_Accuracy         NaN        NaN       NaN       NaN           0.673087\n",
      "EDI_Speed            NaN        NaN       NaN       NaN          -0.800538\n",
      "rsquared       0.0603359  0.0484933  0.498168  0.421582           0.646851\n"
     ]
    }
   ],
   "source": [
    "behav_coef = pd.concat([coefs_ridge, coefs_svr, coefs_gpr, coefs_dnn, coefs_chro], axis = 1, \n",
    "                       keys = ['ridge', 'SVR', 'GPR', 'DNN', 'Chronological age'], sort = False)\n",
    "\n",
    "behav_coef.columns =  behav_coef.columns.droplevel(1)\n",
    "\n",
    "behav_coef = pd.concat([behav_coef, brainage_behav_rsquare], axis = 0)\n",
    "\n",
    "agegap_behav_coef = behav_coef\n",
    "d = dict(zip(cog_label, cog_label2))\n",
    "agegap_behav_coef.rename(index = d, inplace = True)\n",
    "\n",
    "rows = list(agegap_behav_coef.index)\n",
    "\n",
    "#rows.insert(0, rows.pop(rows.index('chronological age')))\n",
    "# rows.insert(0, rows.pop(rows.index('Sex')))\n",
    "\n",
    "agegap_behav_coef = agegap_behav_coef.reindex(index= rows)\n",
    "\n",
    "\n",
    "print(agegap_behav_coef)\n",
    "\n",
    "agegap_behav_coef.to_csv(file_dir + 'brain_age_behav_coef' + disorder + '.csv')"
   ]
  },
  {
   "cell_type": "code",
   "execution_count": 10,
   "metadata": {},
   "outputs": [
    {
     "data": {
      "text/plain": [
       "Text(0.5, 1.0, 'Brain age')"
      ]
     },
     "execution_count": 10,
     "metadata": {},
     "output_type": "execute_result"
    },
    {
     "data": {
      "image/png": "[encoded data removed]",
      "text/plain": [
       "<Figure size 842.4x595.44 with 1 Axes>"
      ]
     },
     "metadata": {},
     "output_type": "display_data"
    }
   ],
   "source": [
    "import seaborn as sns\n",
    "import matplotlib.pyplot as plt\n",
    "\n",
    "age_gap_behav_coef = brainage_behav_coef.drop(index='chronological age', level = 1)\n",
    "age_gap_behav_coef.index.names = ['method', 'behavioral test']\n",
    "age_gap_behav_coef = age_gap_behav_coef.reset_index()\n",
    "\n",
    "\n",
    "sns.set(rc={'figure.figsize':(11.7,8.27)})\n",
    "ax = sns.barplot(x = 'behavioral test', y = \"beta\", hue = 'method', data = age_gap_behav_coef)\n",
    "ax.set_xticklabels(ax.get_xticklabels(), rotation=30)\n",
    "plt.title(\"Brain age\")"
   ]
  },
  {
   "cell_type": "code",
   "execution_count": 11,
   "metadata": {},
   "outputs": [],
   "source": [
    "## regression RFE for corrected brain age gap:"
   ]
  },
  {
   "cell_type": "code",
   "execution_count": 12,
   "metadata": {},
   "outputs": [],
   "source": [
    "behav_rsquare = pd.DataFrame(index = ['rsquared'], columns = ['ridge', 'SVR', 'GPR', 'DNN'])\n",
    "behav_coef = pd.DataFrame(columns = ['ridge', 'SVR', 'GPR', 'DNN'])\n",
    "\n",
    "coefs_ridge, behav_rsquare.loc['rsquared','ridge'] = linear_regression_rfe(subject_behav, scatter_ridge, cog_label, y_label = 'age gap corr')\n",
    "coefs_svr, behav_rsquare.loc['rsquared','SVR'] = linear_regression_rfe(subject_behav, scatter_svr, cog_label, y_label = 'age gap corr')\n",
    "coefs_gpr, behav_rsquare.loc['rsquared','GPR'] = linear_regression_rfe(subject_behav, scatter_gpr, cog_label, y_label = 'age gap corr')\n",
    "coefs_dnn, behav_rsquare.loc['rsquared','DNN'] = linear_regression_rfe(subject_behav, scatter_dnn, cog_label, y_label = 'age gap corr')\n"
   ]
  },
  {
   "cell_type": "code",
   "execution_count": 13,
   "metadata": {},
   "outputs": [
    {
     "name": "stdout",
     "output_type": "stream",
     "text": [
      "                 ridge        SVR       GPR       DNN\n",
      "LAN_Accuracy   0.94033        NaN  0.699304   1.02418\n",
      "NVR_Accuracy -0.519819        NaN -0.550501 -0.866215\n",
      "ABF_Speed    -0.949081        NaN  -0.70326 -0.581296\n",
      "EDI_Speed     0.645523        NaN  0.653554       NaN\n",
      "ADI_Speed    -0.413749        NaN -0.362314       NaN\n",
      "SPA_Accuracy       NaN  -0.449956       NaN       NaN\n",
      "rsquared      0.293457  0.0464933  0.262941  0.217468\n"
     ]
    }
   ],
   "source": [
    "behav_coef = pd.concat([coefs_ridge, coefs_svr, coefs_gpr, coefs_dnn], axis = 1, \n",
    "                       keys = ['ridge', 'SVR', 'GPR', 'DNN'], sort = False)\n",
    "\n",
    "behav_coef.columns =  behav_coef.columns.droplevel(1)\n",
    "\n",
    "behav_coef = pd.concat([behav_coef, behav_rsquare], axis = 0)\n",
    "\n",
    "agegap_behav_coef = behav_coef\n",
    "d = dict(zip(cog_label, cog_label2))\n",
    "agegap_behav_coef.rename(index = d, inplace = True)\n",
    "\n",
    "rows = list(agegap_behav_coef.index)\n",
    "\n",
    "#rows.insert(0, rows.pop(rows.index('chronological age')))\n",
    "#rows.insert(0, rows.pop(rows.index('Sex')))\n",
    "\n",
    "agegap_behav_coef = agegap_behav_coef.reindex(index= rows)\n",
    "\n",
    "\n",
    "print(agegap_behav_coef)\n",
    "\n",
    "agegap_behav_coef.to_csv(file_dir + 'agegapcorr_behav_coef' + disorder + '.csv')"
   ]
  },
  {
   "cell_type": "code",
   "execution_count": 14,
   "metadata": {},
   "outputs": [],
   "source": [
    "plot_data = agegap_behav_coef.reset_index()\n",
    "\n",
    "plot_data = pd.melt(plot_data, id_vars = ['index'], value_vars = ['ridge', 'SVR', 'GPR', 'DNN'], \n",
    "                    var_name = 'Method', value_name = 'beta')\n",
    "plot_data.rename(columns = {'index':'behavioral test'}, inplace = True)"
   ]
  },
  {
   "cell_type": "code",
   "execution_count": 15,
   "metadata": {},
   "outputs": [
    {
     "data": {
      "text/plain": [
       "Text(0.5, 1.0, 'Age gap corr')"
      ]
     },
     "execution_count": 15,
     "metadata": {},
     "output_type": "execute_result"
    },
    {
     "data": {
      "image/png": "[encoded data removed]",
      "text/plain": [
       "<Figure size 842.4x595.44 with 1 Axes>"
      ]
     },
     "metadata": {},
     "output_type": "display_data"
    }
   ],
   "source": [
    "import seaborn as sns\n",
    "import matplotlib.pyplot as plt\n",
    "\n",
    "sns.set(rc={'figure.figsize':(11.7,8.27)})\n",
    "ax = sns.barplot(x = 'behavioral test', y = \"beta\", hue = 'Method', data = plot_data)\n",
    "ax.set_xticklabels(ax.get_xticklabels(), rotation=30)\n",
    "plt.title(\"Age gap corr\")"
   ]
  },
  {
   "cell_type": "code",
   "execution_count": 16,
   "metadata": {},
   "outputs": [],
   "source": [
    "behav_rsquare = pd.DataFrame(index = ['rsquared'], columns = ['ridge', 'SVR', 'GPR', 'DNN', 'Chronological age'])\n",
    "#behav_coef = pd.DataFrame(columns = ['ridge', 'SVR', 'GPR', 'DNN'])\n",
    "\n",
    "coefs_ridge, behav_rsquare.loc['rsquared','ridge'] = linear_regression_rfe(subject_behav, scatter_ridge, cog_label, y_label = 'brain age fit')\n",
    "coefs_svr, behav_rsquare.loc['rsquared','SVR'] = linear_regression_rfe(subject_behav, scatter_svr, cog_label, y_label = 'brain age fit')\n",
    "coefs_gpr, behav_rsquare.loc['rsquared','GPR'] = linear_regression_rfe(subject_behav, scatter_gpr, cog_label, y_label = 'brain age fit')\n",
    "coefs_dnn, behav_rsquare.loc['rsquared','DNN'] = linear_regression_rfe(subject_behav, scatter_dnn, cog_label, y_label = 'brain age fit')\n",
    "\n",
    "coefs_chro, behav_rsquare.loc['rsquared','Chronological age'] = linear_regression_rfe(subject_behav, scatter_dnn, cog_label, y_label = 'age')\n"
   ]
  },
  {
   "cell_type": "code",
   "execution_count": 17,
   "metadata": {},
   "outputs": [
    {
     "name": "stdout",
     "output_type": "stream",
     "text": [
      "                  ridge       SVR       GPR       DNN Chronological age\n",
      "Sex           -0.539328 -0.495676 -0.570045  -0.72265               NaN\n",
      "ABF_Speed     -0.270474 -0.184227 -0.280885 -0.294504         -0.603182\n",
      "VMEM_Speed     0.417383  0.284958  0.433878  0.452506          0.688421\n",
      "LAN_Speed      0.407211  0.278845   0.42384  0.439042          0.568235\n",
      "EDI_Speed     -0.306128  -0.20864 -0.317993 -0.332949         -0.800538\n",
      "SM_Speed      -0.383991 -0.261929 -0.399017 -0.416981         -0.528113\n",
      "FMEM_Accuracy       NaN       NaN       NaN       NaN          0.643297\n",
      "SMEM_Accuracy       NaN       NaN       NaN       NaN         -0.522657\n",
      "ADI_Accuracy        NaN       NaN       NaN       NaN          0.673087\n",
      "rsquared       0.659262  0.703862  0.661561  0.687751          0.646851\n"
     ]
    }
   ],
   "source": [
    "behav_coef = pd.concat([coefs_ridge, coefs_svr, coefs_gpr, coefs_dnn, coefs_chro], axis = 1, \n",
    "                       keys = ['ridge', 'SVR', 'GPR', 'DNN', 'Chronological age'], sort = False)\n",
    "\n",
    "behav_coef.columns =  behav_coef.columns.droplevel(1)\n",
    "\n",
    "behav_coef = pd.concat([behav_coef, behav_rsquare], axis = 0)\n",
    "\n",
    "agegap_behav_coef = behav_coef\n",
    "d = dict(zip(cog_label, cog_label2))\n",
    "agegap_behav_coef.rename(index = d, inplace = True)\n",
    "\n",
    "rows = list(agegap_behav_coef.index)\n",
    "\n",
    "#rows.insert(0, rows.pop(rows.index('chronological age')))\n",
    "rows.insert(0, rows.pop(rows.index('Sex')))\n",
    "\n",
    "agegap_behav_coef = agegap_behav_coef.reindex(index= rows)\n",
    "\n",
    "\n",
    "print(agegap_behav_coef)\n",
    "\n",
    "agegap_behav_coef.to_csv(file_dir + 'brain_age_fit_behav_coef' + disorder + '.csv')"
   ]
  },
  {
   "cell_type": "code",
   "execution_count": 18,
   "metadata": {},
   "outputs": [],
   "source": [
    "plot_data = agegap_behav_coef.reset_index()\n",
    "\n",
    "plot_data = pd.melt(plot_data, id_vars = ['index'], value_vars = ['ridge', 'SVR', 'GPR', 'DNN', 'Chronological age'], \n",
    "                    var_name = 'Method', value_name = 'beta')\n",
    "plot_data.rename(columns = {'index':'behavioral test'}, inplace = True)"
   ]
  },
  {
   "cell_type": "code",
   "execution_count": 19,
   "metadata": {},
   "outputs": [
    {
     "data": {
      "text/plain": [
       "Text(0.5, 1.0, 'Brain age fit')"
      ]
     },
     "execution_count": 19,
     "metadata": {},
     "output_type": "execute_result"
    },
    {
     "data": {
      "image/png": "[encoded data removed]",
      "text/plain": [
       "<Figure size 842.4x595.44 with 1 Axes>"
      ]
     },
     "metadata": {},
     "output_type": "display_data"
    }
   ],
   "source": [
    "import seaborn as sns\n",
    "import matplotlib.pyplot as plt\n",
    "\n",
    "sns.set(rc={'figure.figsize':(11.7,8.27)})\n",
    "ax = sns.barplot(x = 'behavioral test', y = \"beta\", hue = 'Method', data = plot_data)\n",
    "ax.set_xticklabels(ax.get_xticklabels(), rotation=30)\n",
    "plt.title(\"Brain age fit\")"
   ]
  },
  {
   "cell_type": "code",
   "execution_count": null,
   "metadata": {},
   "outputs": [],
   "source": []
  },
  {
   "cell_type": "code",
   "execution_count": 20,
   "metadata": {},
   "outputs": [],
   "source": [
    "def linear_regression_rfe_corr(subject_behav, scatter_data, cog_score_label, \n",
    "                          y_label, n_features = 5, save_data = False):    \n",
    "    \n",
    "    scatter_data = scatter_data.loc[scatter_data['group'] == disorder]\n",
    "\n",
    "    # merge behave file and subject info:\n",
    "    subject_behav = subject_behav.merge(scatter_data, how = \"inner\", on = [\"SUBJID\", \"Sex\"])\n",
    "    \n",
    "    subject_behav['age gap corr'] = subject_behav['predict age'] - subject_behav['brain age fit']\n",
    "    subject_behav['age gap'] = subject_behav['predict age'] - subject_behav['age']\n",
    "    # print(any(np.isnan(y)))\n",
    "    # print(any(np.isnan(X)))\n",
    "    subject_behav_tosave = subject_behav[ [\"SUBJID\", 'Sex', 'age', 'age gap corr', \n",
    "                                           'age gap', 'predict age', 'brain age fit'] + cog_score_label]\n",
    "    \n",
    "    if y_label == 'age gap':\n",
    "        print('add chronological age as predictors...')\n",
    "        cog_score_label = cog_score_label + ['age']\n",
    "    elif y_label == 'age gap corr':\n",
    "        print('add brain age fit as predictors...')\n",
    "        cog_score_label = cog_score_label + ['brain age fit']\n",
    "    else:\n",
    "        cog_score_label = cog_score_label\n",
    "        \n",
    "    X_label = cog_score_label + [\"Sex\"]\n",
    "    \n",
    "    subject_behav.replace({'Sex': {'F': 0, 'M': 1}}, inplace = True)\n",
    "    X = subject_behav[X_label].values\n",
    "    y = subject_behav[y_label].values\n",
    "\n",
    "    nan_idx = np.isnan(X).any(axis=1)\n",
    "    y = y[~nan_idx]\n",
    "    X = X[~nan_idx,:]\n",
    "    X_scaled = preprocessing.scale(X)\n",
    "\n",
    "    estimator = LinearRegression()\n",
    "    #selector = RFECV(estimator, step=1, cv=5,  min_features_to_select=5)\n",
    "    selector = RFECV(estimator, step=1, cv=5)\n",
    "    #selector = RFE(estimator, step=1, n_features_to_select=n_features)\n",
    "    \n",
    "    selector = selector.fit(X_scaled, y)\n",
    "    \n",
    "    #print(selector.support_)\n",
    "    #print(selector.ranking_)\n",
    "\n",
    "    coefs = selector.estimator_.coef_\n",
    "#     print(coefs)\n",
    "    index = selector.support_\n",
    "    label = [X_label[i] for i in range(len(X_label)) if index[i]]\n",
    "#     print(label)\n",
    "    \n",
    "    rsquared = selector.score(X_scaled, y)\n",
    "    \n",
    "    coefs = pd.DataFrame(coefs, index = label, columns = ['beta'])\n",
    "    \n",
    "    if save_data:\n",
    "        return((coefs, rsquared, subject_behav_tosave))\n",
    "    else:\n",
    "        return((coefs, rsquared))"
   ]
  },
  {
   "cell_type": "code",
   "execution_count": 21,
   "metadata": {},
   "outputs": [
    {
     "name": "stdout",
     "output_type": "stream",
     "text": [
      "add brain age fit as predictors...\n",
      "add brain age fit as predictors...\n",
      "add brain age fit as predictors...\n",
      "add brain age fit as predictors...\n"
     ]
    }
   ],
   "source": [
    "behav_rsquare = pd.DataFrame(index = ['rsquared'], columns = ['ridge', 'SVR', 'GPR', 'DNN'])\n",
    "behav_coef = pd.DataFrame(columns = ['ridge', 'SVR', 'GPR', 'DNN'])\n",
    "\n",
    "coefs_ridge, behav_rsquare.loc['rsquared','ridge'] = linear_regression_rfe_corr(subject_behav, scatter_ridge, cog_label, y_label = 'age gap corr')\n",
    "coefs_svr, behav_rsquare.loc['rsquared','SVR'] = linear_regression_rfe_corr(subject_behav, scatter_svr, cog_label, y_label = 'age gap corr')\n",
    "coefs_gpr, behav_rsquare.loc['rsquared','GPR'] = linear_regression_rfe_corr(subject_behav, scatter_gpr, cog_label, y_label = 'age gap corr')\n",
    "coefs_dnn, behav_rsquare.loc['rsquared','DNN'] = linear_regression_rfe_corr(subject_behav, scatter_dnn, cog_label, y_label = 'age gap corr')\n"
   ]
  },
  {
   "cell_type": "code",
   "execution_count": 22,
   "metadata": {},
   "outputs": [
    {
     "name": "stdout",
     "output_type": "stream",
     "text": [
      "                  ridge       SVR        GPR       DNN\n",
      "LAN_Accuracy   0.733596       NaN        NaN   1.13349\n",
      "ABF_Speed     -0.750511       NaN        NaN -0.494402\n",
      "brain age fit       NaN  0.714322        NaN  0.452545\n",
      "NVR_Accuracy        NaN       NaN  -0.374881 -0.743792\n",
      "WM_Accuracy         NaN       NaN        NaN -0.701845\n",
      "EDI_Accuracy        NaN       NaN        NaN   1.01844\n",
      "ADI_Accuracy        NaN       NaN        NaN -0.746655\n",
      "rsquared       0.165852  0.117176  0.0416586  0.329445\n"
     ]
    }
   ],
   "source": [
    "behav_coef = pd.concat([coefs_ridge, coefs_svr, coefs_gpr, coefs_dnn], axis = 1, \n",
    "                       keys = ['ridge', 'SVR', 'GPR', 'DNN'], sort = False)\n",
    "\n",
    "behav_coef.columns =  behav_coef.columns.droplevel(1)\n",
    "\n",
    "behav_coef = pd.concat([behav_coef, behav_rsquare], axis = 0)\n",
    "\n",
    "agegap_behav_coef = behav_coef\n",
    "d = dict(zip(cog_label, cog_label2))\n",
    "agegap_behav_coef.rename(index = d, inplace = True)\n",
    "\n",
    "rows = list(agegap_behav_coef.index)\n",
    "\n",
    "#rows.insert(0, rows.pop(rows.index('chronological age')))\n",
    "#rows.insert(0, rows.pop(rows.index('Sex')))\n",
    "\n",
    "agegap_behav_coef = agegap_behav_coef.reindex(index= rows)\n",
    "\n",
    "\n",
    "print(agegap_behav_coef)\n",
    "\n",
    "agegap_behav_coef.to_csv(file_dir + 'age_gap_corr2_behav_coef' + disorder + '.csv')"
   ]
  },
  {
   "cell_type": "code",
   "execution_count": 23,
   "metadata": {},
   "outputs": [],
   "source": [
    "plot_data = agegap_behav_coef.reset_index()\n",
    "\n",
    "plot_data = pd.melt(plot_data, id_vars = ['index'], value_vars = ['ridge', 'SVR', 'GPR', 'DNN'], \n",
    "                    var_name = 'Method', value_name = 'beta')\n",
    "plot_data.rename(columns = {'index':'behavioral test'}, inplace = True)"
   ]
  },
  {
   "cell_type": "code",
   "execution_count": 24,
   "metadata": {},
   "outputs": [
    {
     "data": {
      "text/plain": [
       "Text(0.5, 1.0, 'Age gap corr')"
      ]
     },
     "execution_count": 24,
     "metadata": {},
     "output_type": "execute_result"
    },
    {
     "data": {
      "image/png": "[encoded data removed]",
      "text/plain": [
       "<Figure size 842.4x595.44 with 1 Axes>"
      ]
     },
     "metadata": {},
     "output_type": "display_data"
    }
   ],
   "source": [
    "import seaborn as sns\n",
    "import matplotlib.pyplot as plt\n",
    "\n",
    "sns.set(rc={'figure.figsize':(11.7,8.27)})\n",
    "ax = sns.barplot(x = 'behavioral test', y = \"beta\", hue = 'Method', data = plot_data)\n",
    "ax.set_xticklabels(ax.get_xticklabels(), rotation=30)\n",
    "plt.title(\"Age gap corr\")"
   ]
  },
  {
   "cell_type": "code",
   "execution_count": null,
   "metadata": {},
   "outputs": [],
   "source": []
  }
 ],
 "metadata": {
  "kernelspec": {
   "display_name": "Python 3",
   "language": "python",
   "name": "python3"
  },
  "language_info": {
   "codemirror_mode": {
    "name": "ipython",
    "version": 3
   },
   "file_extension": ".py",
   "mimetype": "text/x-python",
   "name": "python",
   "nbconvert_exporter": "python",
   "pygments_lexer": "ipython3",
   "version": "3.6.5"
  }
 },
 "nbformat": 4,
 "nbformat_minor": 2
}
