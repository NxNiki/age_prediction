{
 "cells": [
  {
   "cell_type": "code",
   "execution_count": 23,
   "metadata": {},
   "outputs": [
    {
     "name": "stdout",
     "output_type": "stream",
     "text": [
      "[[1. 1. 1. 1. 1.]\n",
      " [1. 1. 1. 1. 1.]\n",
      " [1. 1. 1. 1. 1.]]\n",
      "change the 2nd row 3rd colum value to 2\n",
      "[[1. 1. 1. 1. 1.]\n",
      " [1. 1. 2. 1. 1.]\n",
      " [1. 1. 1. 1. 1.]]\n",
      "shape of the array\n",
      "(3, 5)\n",
      "[[1. 1. 1. 1. 1. 1. 1.]\n",
      " [1. 1. 2. 1. 1. 1. 1.]\n",
      " [1. 1. 1. 1. 1. 1. 1.]]\n",
      "[1. 1. 1.]\n",
      "[1. 1. 1.]\n",
      "array hstack:\n",
      "[[1. 1. 1.]\n",
      " [1. 1. 1.]\n",
      " [1. 1. 1.]]\n",
      "[[1. 1. 1.]\n",
      " [1. 1. 1.]\n",
      " [1. 1. 1.]]\n"
     ]
    }
   ],
   "source": [
    "import numpy as np\n",
    "\n",
    "array_3by5 = np.ones((3,5))\n",
    "print(array_3by5)\n",
    "\n",
    "# note that the first index is row, and the 3nd is column, same as in matlab\n",
    "array_3by5[1,2] = 2\n",
    "print(\"change the 2nd row 3rd colum value to 2\")\n",
    "print(array_3by5)\n",
    "print(\"shape of the array\")\n",
    "print(array_3by5.shape)\n",
    "\n",
    "array_3by2 = np.ones((3,2))\n",
    "\n",
    "array_hstack = np.hstack((array_3by5, array_3by2))\n",
    "print(array_hstack)\n",
    "\n",
    "# the tricky thing about np.array is if you select the 1st colum, it will return a row array.\n",
    "# so you cannot use hstack with it.\n",
    "print(array_3by5[:,1])\n",
    "# if you transpose it... sorry, it is still a row array. wtf!!!\n",
    "print(array_3by5[:,1].T)\n",
    "\n",
    "# you can vtack the row with the transposed array.\n",
    "array_hstack = np.vstack((array_3by5[:,1], array_3by2.T))\n",
    "print(\"array hstack:\")\n",
    "print(array_hstack)\n",
    "\n",
    "# or you can vtack the row to make it column and then hstack the column with the array:\n",
    "array_vstack = np.hstack( (np.vstack(array_3by5[:,1]), array_3by2) )\n",
    "print(array_vstack)"
   ]
  },
  {
   "cell_type": "code",
   "execution_count": null,
   "metadata": {},
   "outputs": [],
   "source": []
  }
 ],
 "metadata": {
  "kernelspec": {
   "display_name": "Python 3",
   "language": "python",
   "name": "python3"
  },
  "language_info": {
   "codemirror_mode": {
    "name": "ipython",
    "version": 3
   },
   "file_extension": ".py",
   "mimetype": "text/x-python",
   "name": "python",
   "nbconvert_exporter": "python",
   "pygments_lexer": "ipython3",
   "version": "3.6.4"
  }
 },
 "nbformat": 4,
 "nbformat_minor": 2
}
