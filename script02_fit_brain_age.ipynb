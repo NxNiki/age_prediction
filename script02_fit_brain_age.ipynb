{
 "cells": [
  {
   "cell_type": "code",
   "execution_count": 5,
   "metadata": {},
   "outputs": [],
   "source": [
    "import pandas as pd\n",
    "import numpy as np\n",
    "from sklearn import datasets, linear_model\n",
    "\n",
    "scatter_data_ridge = pd.read_csv(\"result/scatter_data_ridge.csv\", sep = \",\", header = 0, )\n",
    "scatter_data_svr = pd.read_csv(\"result/scatter_data_svr.csv\", sep = \",\", header = 0, )\n",
    "scatter_data_gpr = pd.read_csv(\"result/scatter_data_gpr.csv\", sep = \",\", header = 0, )\n",
    "scatter_data_dnn = pd.read_csv(\"result/scatter_data_dnn.csv\", sep = \",\", header = 0, index_col = 0)\n",
    "\n",
    "scatter_data_list = list((scatter_data_ridge, scatter_data_svr, scatter_data_gpr, scatter_data_dnn))"
   ]
  },
  {
   "cell_type": "code",
   "execution_count": 6,
   "metadata": {},
   "outputs": [],
   "source": [
    "# add gender to scatter_data so that we can make scatter plot for female and male separately:\n",
    "subject_behav = pd.read_csv(\"data/pnc_cognitive_response.csv\", delimiter = \",\")\n",
    "subject_info = subject_behav.loc[:, ['SUBJID', 'Sex']]\n",
    "\n",
    "method_list = ['ridge', 'svr', 'gpr', 'dnn']\n",
    "for i in range(len(scatter_data_list)):\n",
    "    scatter_data = scatter_data_list[i]\n",
    "    scatter_data_gender = scatter_data.merge(subject_info, left_on = 'SUBJID', right_on = 'SUBJID')\n",
    "    scatter_data_gender.set_index( 'feature', inplace = True)\n",
    "    scatter_data_gender.sort_index(inplace = True)\n",
    "    scatter_data_gender2 = scatter_data_gender.replace({'Sex': {'F': 0, 'M': 1}}, inplace = False)\n",
    "    #scatter_data_gender['brain age corr'] = np.nan\n",
    "    \n",
    "    feature_list = scatter_data_gender2.index.unique(level = 0)\n",
    "    regr = linear_model.LinearRegression()\n",
    "    \n",
    "    for i_feature in range(len(feature_list)):\n",
    "        feature_name = feature_list[i_feature]\n",
    "        scatter_data_feature = scatter_data_gender2.loc[feature_name,:]\n",
    "        \n",
    "        y_train = scatter_data_feature.loc[:,'brain age'].values\n",
    "        \n",
    "        ####### fit model with sex:\n",
    "        X_train = np.hstack((scatter_data_feature.loc[:,['Sex', 'chronological age']].values,\n",
    "                             np.vstack((scatter_data_feature.loc[:,'chronological age'].values**2))))\n",
    "        \n",
    "        # Train the model using the training sets\n",
    "        regr.fit(X_train, y_train)\n",
    "\n",
    "        # Make predictions using the testing set\n",
    "        y_pred = regr.predict(X_train)\n",
    "        \n",
    "        scatter_data_gender.at[feature_name, 'brain age fit sex'] = y_pred\n",
    "        \n",
    "        \n",
    "        ####### fit model with sex and interaction terms:\n",
    "        X_train = np.hstack((X_train, np.vstack((X_train[:,0]*X_train[:,1])), np.vstack((X_train[:,0]*X_train[:,2]))))\n",
    "\n",
    "        # Train the model using the training sets\n",
    "        regr.fit(X_train, y_train)\n",
    "\n",
    "        # Make predictions using the testing set\n",
    "        y_pred = regr.predict(X_train)\n",
    "        \n",
    "        scatter_data_gender.at[feature_name, 'brain age fit intersex'] = y_pred\n",
    "        \n",
    "        \n",
    "        ######## fit model without sex:\n",
    "        X_train = np.transpose(np.vstack((scatter_data_feature.loc[:,'chronological age'].values,\n",
    "                                          scatter_data_feature.loc[:,'chronological age'].values**2)))\n",
    "\n",
    "        regr.fit(X_train, y_train)\n",
    "\n",
    "        # Make predictions using the testing set\n",
    "        y_pred = regr.predict(X_train)\n",
    "        \n",
    "        scatter_data_gender.at[feature_name, 'brain age fit'] = y_pred\n",
    "    \n",
    "    scatter_data_gender.to_csv('result/allsubjects/out02_scatter_data_gender_'+ method_list[i] + '.csv')"
   ]
  },
  {
   "cell_type": "code",
   "execution_count": null,
   "metadata": {},
   "outputs": [],
   "source": [
    "\n",
    "\n"
   ]
  }
 ],
 "metadata": {
  "kernelspec": {
   "display_name": "Python 3",
   "language": "python",
   "name": "python3"
  },
  "language_info": {
   "codemirror_mode": {
    "name": "ipython",
    "version": 3
   },
   "file_extension": ".py",
   "mimetype": "text/x-python",
   "name": "python",
   "nbconvert_exporter": "python",
   "pygments_lexer": "ipython3",
   "version": "3.7.1"
  }
 },
 "nbformat": 4,
 "nbformat_minor": 2
}
