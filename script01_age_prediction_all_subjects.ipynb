{
 "cells": [
  {
   "cell_type": "code",
   "execution_count": 1,
   "metadata": {},
   "outputs": [
    {
     "name": "stdout",
     "output_type": "stream",
     "text": [
      "0.19.1\n"
     ]
    },
    {
     "ename": "NameError",
     "evalue": "name 'read_brain_feature_fc' is not defined",
     "output_type": "error",
     "traceback": [
      "\u001b[0;31m---------------------------------------------------------------------------\u001b[0m",
      "\u001b[0;31mNameError\u001b[0m                                 Traceback (most recent call last)",
      "\u001b[0;32m<ipython-input-1-b30d4f702aa4>\u001b[0m in \u001b[0;36m<module>\u001b[0;34m()\u001b[0m\n\u001b[1;32m     13\u001b[0m \u001b[0mprint\u001b[0m\u001b[0;34m(\u001b[0m\u001b[0msklearn\u001b[0m\u001b[0;34m.\u001b[0m\u001b[0m__version__\u001b[0m\u001b[0;34m)\u001b[0m\u001b[0;34m\u001b[0m\u001b[0;34m\u001b[0m\u001b[0m\n\u001b[1;32m     14\u001b[0m \u001b[0;31m#brain_feature_list, subject_id = read_brain_feature()\u001b[0m\u001b[0;34m\u001b[0m\u001b[0;34m\u001b[0m\u001b[0;34m\u001b[0m\u001b[0m\n\u001b[0;32m---> 15\u001b[0;31m \u001b[0mbrain_feature_list\u001b[0m\u001b[0;34m,\u001b[0m \u001b[0msubject_id\u001b[0m \u001b[0;34m=\u001b[0m \u001b[0mread_brain_feature_fc\u001b[0m\u001b[0;34m(\u001b[0m\u001b[0;34m)\u001b[0m\u001b[0;34m\u001b[0m\u001b[0;34m\u001b[0m\u001b[0m\n\u001b[0m\u001b[1;32m     16\u001b[0m \u001b[0;34m\u001b[0m\u001b[0m\n\u001b[1;32m     17\u001b[0m \u001b[0;31m# read subject_info:\u001b[0m\u001b[0;34m\u001b[0m\u001b[0;34m\u001b[0m\u001b[0;34m\u001b[0m\u001b[0m\n",
      "\u001b[0;31mNameError\u001b[0m: name 'read_brain_feature_fc' is not defined"
     ]
    }
   ],
   "source": [
    "#from time import time\n",
    "import sklearn\n",
    "from sklearn.model_selection import cross_val_score\n",
    "from sklearn.metrics import mean_squared_error\n",
    "from sklearn.model_selection import GridSearchCV\n",
    "import pandas as pd\n",
    "\n",
    "from my_fun import read_brain_feature\n",
    "from my_fun import run_model\n",
    "from my_fun import summary_result\n",
    "from my_fun import plot_result_mergecv\n",
    "\n",
    "print(sklearn.__version__)\n",
    "#brain_feature_list, subject_id = read_brain_feature()\n",
    "brain_feature_list, subject_id = read_brain_feature_fc()\n",
    "\n",
    "# read subject_info:\n",
    "pnc_subject_info = pd.read_csv(\"data/pnc_subject_info.csv\", delimiter = \",\")\n",
    "print(pnc_subject_info.shape)\n",
    "\n",
    "subject_info_merge = subject_id.merge(pnc_subject_info, how = \"left\", left_on = \"names\", right_on = \"SUBJID\")\n",
    "print(subject_info_merge.shape)\n",
    "\n",
    "# head_motion_subjects = pd.read_csv(\"data/head_motion_subject_delete.txt\", delimiter = \"\\t\", header = None)\n",
    "# #print(head_motion_subjects)\n",
    "# head_motion_sublist = head_motion_subjects.iloc[:,0].tolist()\n",
    "# subject_info_merge = subject_info_merge[~subject_info_merge.SUBJID.isin(head_motion_sublist)]\n",
    "\n",
    "# remove samples with Med_rating higher than 1:\n",
    "subject_info_merge[\"Med_Rating\"] = subject_info_merge[\"Med_Rating\"].apply(pd.to_numeric, errors='coerce')\n",
    "subject_info_merge = subject_info_merge.loc[subject_info_merge[\"Med_Rating\"]<2,:]\n",
    "\n",
    "subject_info_merge['Sex'] = subject_info_merge['Sex'].apply({'F':0, 'M':1}.get)\n",
    "      \n",
    "print(subject_info_merge.head())\n",
    "subject_info_columns = ['SUBJID', 'Sex', 'age_at_cnb']\n"
   ]
  },
  {
   "cell_type": "code",
   "execution_count": null,
   "metadata": {},
   "outputs": [],
   "source": [
    "print(\"participants:\")\n",
    "print(\"number of subjects: %d\" % subject_info_merge.shape[0])\n",
    "print(\"meam  and std of age: %.2f %.2f\" % (subject_info_merge[\"age_at_cnb\"].mean(),\\\n",
    "                                           subject_info_merge[\"age_at_cnb\"].std()))\n",
    "print(\"range of age: %d - %d\" % (subject_info_merge[\"age_at_cnb\"].max(),\\\n",
    "                                 subject_info_merge[\"age_at_cnb\"].min()))\n",
    "\n",
    "print(\"number of females: %d\" % subject_info_merge.loc[subject_info_merge['Sex']==0,:].shape[0])\n",
    "print(\"number of males: %d\" % subject_info_merge.loc[subject_info_merge['Sex']==1,:].shape[0])\n",
    "\n"
   ]
  },
  {
   "cell_type": "code",
   "execution_count": null,
   "metadata": {},
   "outputs": [],
   "source": [
    "from sklearn.model_selection import KFold\n",
    "# from sklearn.model_selection import StratifiedKFold\n",
    "\n",
    "subject_info_hc = subject_info_merge\n",
    "\n",
    "# tune model in 3-fold CV:\n",
    "# n fold CV on hc data:\n",
    "nfold = 10\n",
    "seed = 111\n",
    "kf = KFold(n_splits=nfold, shuffle = True, random_state=seed)\n",
    "# kf = StratifiedKFold(n_splits=nfold, shuffle = True, random_state=seed)\n"
   ]
  },
  {
   "cell_type": "code",
   "execution_count": null,
   "metadata": {},
   "outputs": [],
   "source": [
    "###############################################ridge:#########################################\n",
    "from sklearn.linear_model import RidgeCV\n",
    "import numpy as np\n",
    "\n",
    "# ridge regression:\n",
    "alpha = np.power(10, np.linspace(-3, 3, num = 10))\n",
    "# print(alpha)\n",
    "ridge_cv = RidgeCV(alphas=alpha, cv = nfold)\n",
    "\n",
    "result_table_ridge, scatter_data_ridge = run_model(ridge_cv, subject_info_hc, brain_feature_list, \n",
    "                                                   kf, fit_method = 0)\n"
   ]
  },
  {
   "cell_type": "code",
   "execution_count": null,
   "metadata": {},
   "outputs": [],
   "source": [
    "result_table_ridge.to_csv(\"result/result_table_ridge.csv\", sep = \",\")\n",
    "scatter_data_ridge.to_csv(\"result/scatter_data_ridge.csv\", sep = \",\", index = False)\n"
   ]
  },
  {
   "cell_type": "code",
   "execution_count": null,
   "metadata": {},
   "outputs": [],
   "source": [
    "import pandas as pd\n",
    "result_table = pd.read_csv(\"result/result_table_ridge.csv\", sep = \",\", header = [0,1], index_col = 0)\n",
    "# result_table.columns = col_result_table\n",
    "print(result_table)\n",
    "result_summary_ridge, result_plot_ridge = summary_result(result_table)"
   ]
  },
  {
   "cell_type": "code",
   "execution_count": null,
   "metadata": {},
   "outputs": [],
   "source": [
    "# plot ridge regression results:\n",
    "\n",
    "scatter_data = pd.read_csv(\"result/scatter_data_ridge.csv\", sep = \",\", header = 0, )\n",
    "plot_result_mergecv(result_summary_ridge, scatter_data)"
   ]
  },
  {
   "cell_type": "code",
   "execution_count": null,
   "metadata": {},
   "outputs": [],
   "source": []
  },
  {
   "cell_type": "code",
   "execution_count": null,
   "metadata": {},
   "outputs": [],
   "source": [
    "############################################### SVR: #########################################\n",
    "from sklearn.svm import SVR\n",
    "import numpy as np\n",
    "\n",
    "C = np.power(10, np.linspace(-1,2, num = 20))\n",
    "epsilon=np.linspace(.001, 1, num = 20)\n",
    "\n",
    "param_grid_svr = dict(C = C, epsilon = epsilon)\n",
    "# linear model takes very long time to run.\n",
    "#grid_svr = GridSearchCV(estimator=SVR(kernel='linear'), param_grid=param_grid_svr, n_jobs=3, refit = True)\n",
    "# use default kernel rbf:\n",
    "grid_svr = GridSearchCV(estimator=SVR(), param_grid=param_grid_svr, n_jobs=3, refit = True)\n",
    "\n",
    "result_table_svr, scatter_data_svr = run_model(grid_svr, subject_info_hc, brain_feature_list, kf, fit_method = 1)\n",
    "\n"
   ]
  },
  {
   "cell_type": "code",
   "execution_count": null,
   "metadata": {},
   "outputs": [],
   "source": [
    "result_table_svr.to_csv(\"result/result_table_svr.csv\", sep = \",\")\n",
    "scatter_data_svr.to_csv(\"result/scatter_data_svr.csv\", sep = \",\", index = False)"
   ]
  },
  {
   "cell_type": "code",
   "execution_count": null,
   "metadata": {},
   "outputs": [],
   "source": [
    "import pandas as pd\n",
    "\n",
    "result_table = pd.read_csv(\"result/result_table_svr.csv\", sep = \",\", header = [0,1], index_col = 0)\n",
    "result_summary_svr, result_plot_svr = summary_result(result_table)\n",
    "\n",
    "#print(plot_data)"
   ]
  },
  {
   "cell_type": "code",
   "execution_count": null,
   "metadata": {},
   "outputs": [],
   "source": [
    "# plot svr regression results:\n",
    "\n",
    "scatter_data = pd.read_csv(\"result/scatter_data_svr.csv\", sep = \",\", header = 0, )\n",
    "plot_result_mergecv(result_summary_svr, scatter_data)"
   ]
  },
  {
   "cell_type": "code",
   "execution_count": null,
   "metadata": {},
   "outputs": [],
   "source": [
    "############################################### GPR: #########################################\n",
    "from sklearn.gaussian_process import GaussianProcessRegressor\n",
    "from sklearn.gaussian_process.kernels import RBF, WhiteKernel\n",
    "from sklearn.gaussian_process.kernels import ConstantKernel as CK\n",
    "\n",
    "# gpr_kernel = 1.0 * RBF(length_scale=10, length_scale_bounds=(1e-2, 1e3)) \\\n",
    "#                     + WhiteKernel(noise_level=1, noise_level_bounds=(1e-10, 1e+1))\n",
    "\n",
    "# gpr_kernel2 = 1.0 * RBF(length_scale=100, length_scale_bounds=(1e-2, 1e3)) \\\n",
    "#                     + WhiteKernel(noise_level=1, noise_level_bounds=(1e-10, 1e+1))\n",
    "\n",
    "# gpr_kernel3 = 1.0 * RBF(length_scale=1000, length_scale_bounds=(1e-2, 1e3)) \\\n",
    "#                     + WhiteKernel(noise_level=1, noise_level_bounds=(1e-10, 1e+1))\n",
    "\n",
    "gpr_kernel4 = CK(2.0, (1e-3, 1e3)) * RBF(10, (1e-2, 1e2)) \\\n",
    "                    + WhiteKernel(noise_level=1, noise_level_bounds=(1e-10, 1e+1))\n",
    "\n",
    "\n",
    "# gpr_kernel4 = 1.0 * RBF(length_scale=100, length_scale_bounds=(1e-2, 1e3))\n",
    "\n",
    "gpr_alpha = np.power(10, np.linspace(-2, 2, num = 10))\n",
    "\n",
    "#gpr_alpha = np.linspace(0,.1, num = 3)\n",
    "\n",
    "#param_grid_gpr = dict(alpha = gpr_alpha, kernel=[gpr_kernel, gpr_kernel2, gpr_kernel3, gpr_kernel4])\n",
    "param_grid_gpr = dict(alpha = gpr_alpha, kernel=[gpr_kernel4])\n",
    "\n",
    "grid_gpr = GridSearchCV(estimator=GaussianProcessRegressor(), \\\n",
    "                                param_grid=param_grid_gpr, n_jobs=3, refit = True)\n",
    "\n",
    "result_table_gpr, scatter_data_gpr = run_model(grid_gpr, subject_info_hc, brain_feature_list, kf, fit_method = 1)"
   ]
  },
  {
   "cell_type": "code",
   "execution_count": null,
   "metadata": {},
   "outputs": [],
   "source": [
    "result_table_gpr.to_csv(\"result/result_table_gpr.csv\", sep = \",\")\n",
    "scatter_data_gpr.to_csv(\"result/scatter_data_gpr.csv\", sep = \",\", index = False)"
   ]
  },
  {
   "cell_type": "code",
   "execution_count": null,
   "metadata": {},
   "outputs": [],
   "source": [
    "import pandas as pd\n",
    "\n",
    "result_table = pd.read_csv(\"result/result_table_gpr.csv\", sep = \",\", header = [0,1], index_col = 0)\n",
    "result_summary_gpr, result_plot_gpr = summary_result(result_table)\n",
    "\n",
    "#print(plot_data)"
   ]
  },
  {
   "cell_type": "code",
   "execution_count": null,
   "metadata": {},
   "outputs": [],
   "source": [
    "# plot gpr regression results:\n",
    "from my_fun import plot_result_mergecv\n",
    "\n",
    "# to make the plot show up if codes are called in a function.\n",
    "%matplotlib inline\n",
    "\n",
    "scatter_data = pd.read_csv(\"result/scatter_data_gpr.csv\", sep = \",\", header = 0, )\n",
    "plot_result_mergecv(result_summary_gpr, scatter_data)\n",
    "        "
   ]
  },
  {
   "cell_type": "code",
   "execution_count": null,
   "metadata": {},
   "outputs": [],
   "source": []
  },
  {
   "cell_type": "code",
   "execution_count": null,
   "metadata": {},
   "outputs": [],
   "source": []
  },
  {
   "cell_type": "code",
   "execution_count": null,
   "metadata": {},
   "outputs": [],
   "source": []
  }
 ],
 "metadata": {
  "kernelspec": {
   "display_name": "Python 3",
   "language": "python",
   "name": "python3"
  },
  "language_info": {
   "codemirror_mode": {
    "name": "ipython",
    "version": 3
   },
   "file_extension": ".py",
   "mimetype": "text/x-python",
   "name": "python",
   "nbconvert_exporter": "python",
   "pygments_lexer": "ipython3",
   "version": "3.6.5"
  }
 },
 "nbformat": 4,
 "nbformat_minor": 2
}
