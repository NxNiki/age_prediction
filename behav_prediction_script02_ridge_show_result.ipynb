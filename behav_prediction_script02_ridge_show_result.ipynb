{
 "cells": [
  {
   "cell_type": "code",
   "execution_count": null,
   "metadata": {},
   "outputs": [],
   "source": [
    "import pandas as pd\n",
    "\n",
    "scatter_data_ridge = pd.read_csv(\"behav_prediction_result/scatter_data_ridge.csv\", sep = \",\", header = 0, )\n",
    "\n",
    "result_table_ridge = pd.read_csv(\"behav_prediction_result/result_table_ridge.csv\", sep = \",\", header = [0,1], index_col = 0)\n",
    "result_table_ridge, temp = summary_result(result_table_ridge)"
   ]
  },
  {
   "cell_type": "code",
   "execution_count": null,
   "metadata": {},
   "outputs": [],
   "source": [
    "def summary_result(result_table):\n",
    "\n",
    "    column_index = pd.MultiIndex.from_product([['Pearson r', 'MAE', 'rmse'], \\\n",
    "                                               ['mean', 'std']])\n",
    "    \n",
    "    result_table_summary = pd.DataFrame(columns = column_index)\n",
    "\n",
    "    result_table_summary['Pearson r', 'mean'] = result_table['Pearson r'].mean(axis = 1)\n",
    "    result_table_summary['Pearson r', 'std'] = result_table['Pearson r'].std(axis = 1)\n",
    "    \n",
    "    result_table_summary['MAE', 'mean'] = result_table['MAE'].mean(axis = 1)\n",
    "    result_table_summary['MAE', 'std'] = result_table['MAE'].std(axis = 1)\n",
    "\n",
    "    result_table_summary['rmse', 'mean'] = result_table['rmse'].mean(axis = 1)\n",
    "    result_table_summary['rmse', 'std'] = result_table['rmse'].std(axis = 1)\n",
    "    \n",
    "    print('summary_result:')\n",
    "    print(result_table_summary)\n",
    "    \n",
    "    result_table2 = result_table[['Pearson r', 'MAE']].reset_index(level = 0, inplace = False)\n",
    "    result_table3 = result_table2.rename(columns ={'index':'task'}, inplace = False)\n",
    "    result_accuracy_plot = pd.melt(result_table3, id_vars=['task'], var_name = \"boot\")\n",
    "    \n",
    "    return((result_table_summary, result_accuracy_plot))\n",
    "    "
   ]
  },
  {
   "cell_type": "code",
   "execution_count": null,
   "metadata": {},
   "outputs": [],
   "source": [
    "cog_label_acc = [\n",
    "    # executive control:\n",
    "    \"ABF\",\n",
    "    \"ATT\",\n",
    "    \"WM\",\n",
    "    # episodic memory task:\n",
    "    \"VMEM\",\n",
    "    \"FMEM\",\n",
    "    \"SMEM\",\n",
    "    # complex cognitive task:\n",
    "    \"LAN\",\n",
    "    \"NVR\",\n",
    "    \"SPA\",\n",
    "    # social cognition task:\n",
    "    \"EID\",\n",
    "    \"EDI\",\n",
    "    \"ADI\"\n",
    "]\n",
    "\n",
    "cog_label_speed = cog_label_acc + [\n",
    "    # sensorimotor speed task:\n",
    "    \"MOT\",\n",
    "    \"SM\"\n",
    "]\n",
    "\n",
    "\n",
    "cog_label = [s + '_Accuracy' for s in cog_label_acc] + [s + '_Speed' for s in cog_label_speed]"
   ]
  }
 ],
 "metadata": {
  "kernelspec": {
   "display_name": "Python 3",
   "language": "python",
   "name": "python3"
  },
  "language_info": {
   "codemirror_mode": {
    "name": "ipython",
    "version": 3
   },
   "file_extension": ".py",
   "mimetype": "text/x-python",
   "name": "python",
   "nbconvert_exporter": "python",
   "pygments_lexer": "ipython3",
   "version": "3.6.5"
  }
 },
 "nbformat": 4,
 "nbformat_minor": 2
}
